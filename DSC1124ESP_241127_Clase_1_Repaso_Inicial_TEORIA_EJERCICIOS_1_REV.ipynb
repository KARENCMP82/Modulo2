{
  "cells": [
    {
      "cell_type": "markdown",
      "metadata": {
        "id": "view-in-github",
        "colab_type": "text"
      },
      "source": [
        "<a href=\"https://colab.research.google.com/github/KARENCMP82/Modulo2/blob/main/DSC1124ESP_241127_Clase_1_Repaso_Inicial_TEORIA_EJERCICIOS_1_REV.ipynb\" target=\"_parent\"><img src=\"https://colab.research.google.com/assets/colab-badge.svg\" alt=\"Open In Colab\"/></a>"
      ]
    },
    {
      "cell_type": "markdown",
      "metadata": {
        "id": "o2H2Z3SsRaCu"
      },
      "source": [
        "![Nuclio logo](https://nuclio.school/wp-content/uploads/2018/12/nucleoDS-newBlack.png)"
      ]
    },
    {
      "cell_type": "markdown",
      "source": [
        "# CLASE 1: Repaso Inicial - Lenguaje de programación Python\n",
        "Fecha: 27/11/2024"
      ],
      "metadata": {
        "id": "mwfHG-m1IWSw"
      }
    },
    {
      "cell_type": "markdown",
      "metadata": {
        "id": "6-CnxUJERaCw"
      },
      "source": [
        "#EJERCICIOS 1"
      ]
    },
    {
      "cell_type": "markdown",
      "metadata": {
        "id": "9aiEpXK9RaCw"
      },
      "source": [
        "## Ejecución de código"
      ]
    },
    {
      "cell_type": "markdown",
      "metadata": {
        "id": "28-OVYhKRaCx"
      },
      "source": [
        "1 - Crea un programa de Python que imprima tu nombre"
      ]
    },
    {
      "cell_type": "code",
      "source": [
        "nombre = input(\"Inserta tu nombre\")\n",
        "print(nombre)"
      ],
      "metadata": {
        "id": "zrKSldK0IbR7",
        "colab": {
          "base_uri": "https://localhost:8080/"
        },
        "outputId": "76f26344-4eca-4fb8-cff2-dc937395e936"
      },
      "execution_count": 1,
      "outputs": [
        {
          "output_type": "stream",
          "name": "stdout",
          "text": [
            "Inserta tu nombrecristina\n",
            "cristina\n"
          ]
        }
      ]
    },
    {
      "cell_type": "markdown",
      "metadata": {
        "id": "dpwSyYaFRaCx"
      },
      "source": [
        "2 - Crea un programa de Python que imprima tu nombre, tu edad y cuántos hermanos tienes"
      ]
    },
    {
      "cell_type": "code",
      "source": [
        "nombre = input(\"Inserta tu nombre \")\n",
        "edad = input(\"Inserta tu edad \")\n",
        "hermanos = input(\"Tengo hermanos \")\n",
        "todo=\"Me llamo \"+ nombre +\" Tengo la edad de \"+edad+\" y tengo \"+hermanos+\" hermanos\"\n",
        "print(todo)"
      ],
      "metadata": {
        "id": "RqiSRdQnIb3-",
        "colab": {
          "base_uri": "https://localhost:8080/"
        },
        "outputId": "7f9030cf-c30a-4003-94b2-e018b434efbf"
      },
      "execution_count": 3,
      "outputs": [
        {
          "output_type": "stream",
          "name": "stdout",
          "text": [
            "Inserta tu nombre cristina\n",
            "Inserta tu edad 42\n",
            "Tengo hermanos 1\n",
            "Me llamo cristina Tengo la edad de42 y tengo 1 hermanos\n"
          ]
        }
      ]
    },
    {
      "cell_type": "markdown",
      "metadata": {
        "id": "hl6VHlsiRaCx"
      },
      "source": [
        "## Tipos de Datos"
      ]
    },
    {
      "cell_type": "markdown",
      "metadata": {
        "ExecuteTime": {
          "end_time": "2020-02-16T10:05:45.645202Z",
          "start_time": "2020-02-16T10:05:45.632210Z"
        },
        "id": "2toIB3VcRaCx"
      },
      "source": [
        "3 - ¿ Qué tipo de datos es x= 1.245?"
      ]
    },
    {
      "cell_type": "code",
      "source": [
        "bolean"
      ],
      "metadata": {
        "id": "ObHbm88lIcqU"
      },
      "execution_count": null,
      "outputs": []
    },
    {
      "cell_type": "markdown",
      "metadata": {
        "ExecuteTime": {
          "end_time": "2020-02-16T10:06:00.049094Z",
          "start_time": "2020-02-16T10:06:00.038969Z"
        },
        "id": "wG89frwJRaCy"
      },
      "source": [
        "4 - ¿ Qué tipo de datos es x= 1?"
      ]
    },
    {
      "cell_type": "code",
      "source": [
        "number"
      ],
      "metadata": {
        "id": "n4h46QGUIdLQ"
      },
      "execution_count": null,
      "outputs": []
    },
    {
      "cell_type": "markdown",
      "metadata": {
        "ExecuteTime": {
          "end_time": "2020-02-16T10:06:07.841243Z",
          "start_time": "2020-02-16T10:06:07.831573Z"
        },
        "id": "Xp6ESms_RaCy"
      },
      "source": [
        "5 - ¿ Qué tipo de datos es x= \"Hola\"?"
      ]
    },
    {
      "cell_type": "code",
      "source": [
        "string"
      ],
      "metadata": {
        "id": "pl87jYJpId5S"
      },
      "execution_count": null,
      "outputs": []
    },
    {
      "cell_type": "markdown",
      "metadata": {
        "id": "yqC7kjINRaCy"
      },
      "source": [
        "6 - Asigna tu nombre a una variable e imprime en pantalla tu nombre y qué tipo de datos es tu nombre"
      ]
    },
    {
      "cell_type": "code",
      "source": [],
      "metadata": {
        "id": "pZb5Fr3GIeVS"
      },
      "execution_count": null,
      "outputs": []
    },
    {
      "cell_type": "markdown",
      "metadata": {
        "ExecuteTime": {
          "end_time": "2020-02-16T10:04:44.143890Z",
          "start_time": "2020-02-16T10:04:44.133191Z"
        },
        "id": "cmER5tqgRaCy"
      },
      "source": [
        "7 - Convierte x = 1.3455 y y=\"31\" a números enteros"
      ]
    },
    {
      "cell_type": "code",
      "source": [],
      "metadata": {
        "id": "REGSpA2TIe72"
      },
      "execution_count": null,
      "outputs": []
    },
    {
      "cell_type": "markdown",
      "metadata": {
        "id": "uN0Be_5-RaCz"
      },
      "source": [
        "8 - Convierte x = 1 y y=\"31\" a números decimales"
      ]
    },
    {
      "cell_type": "code",
      "source": [],
      "metadata": {
        "id": "frh1EG7OIfkT"
      },
      "execution_count": null,
      "outputs": []
    },
    {
      "cell_type": "markdown",
      "metadata": {
        "id": "Jhedc-IARaCz"
      },
      "source": [
        "9 - Convierte x = 1 y y=-1,441 a string"
      ]
    },
    {
      "cell_type": "code",
      "source": [],
      "metadata": {
        "id": "oiRiDa3kIf8y"
      },
      "execution_count": null,
      "outputs": []
    },
    {
      "cell_type": "markdown",
      "metadata": {
        "id": "X0-5YIhQRaCz"
      },
      "source": [
        "10 - Imprime los 3 tipos de datos numéricos más básicos que existen y da un ejemplo de cada uno"
      ]
    },
    {
      "cell_type": "code",
      "source": [],
      "metadata": {
        "id": "MA8I__fKIgfd"
      },
      "execution_count": null,
      "outputs": []
    },
    {
      "cell_type": "markdown",
      "metadata": {
        "id": "elvUme8tRaCz"
      },
      "source": [
        "11 - Convierte x=1.3455 a los otros 2 tipos de datos numéricos que has mencionado arriba"
      ]
    },
    {
      "cell_type": "code",
      "source": [],
      "metadata": {
        "id": "qoin-TVaIg-a"
      },
      "execution_count": null,
      "outputs": []
    },
    {
      "cell_type": "markdown",
      "metadata": {
        "id": "BVUVggGURaCz"
      },
      "source": [
        "## Variables Numéricas"
      ]
    },
    {
      "cell_type": "markdown",
      "metadata": {
        "id": "PdubTExORaCz"
      },
      "source": [
        "12 - Calcula la suma de 64 + 32"
      ]
    },
    {
      "cell_type": "code",
      "source": [],
      "metadata": {
        "id": "S9Bx3rIpIhkZ"
      },
      "execution_count": null,
      "outputs": []
    },
    {
      "cell_type": "markdown",
      "metadata": {
        "id": "dSTk0ePGRaCz"
      },
      "source": [
        "13 - Si x = 31.2445 y y= 1.92761, ¿cúanto es x+y?"
      ]
    },
    {
      "cell_type": "code",
      "source": [],
      "metadata": {
        "id": "e_ExNdKNIh79"
      },
      "execution_count": null,
      "outputs": []
    },
    {
      "cell_type": "markdown",
      "metadata": {
        "id": "8qUiLNWcRaCz"
      },
      "source": [
        "14 - Calcula ahora la resta, producto y división de estos números."
      ]
    },
    {
      "cell_type": "code",
      "source": [],
      "metadata": {
        "id": "mSMbphLTIiga"
      },
      "execution_count": null,
      "outputs": []
    },
    {
      "cell_type": "markdown",
      "metadata": {
        "id": "AoBMsg7JRaC0"
      },
      "source": [
        "15 - Calcula el área de un cuadrado de costado 3cm"
      ]
    },
    {
      "cell_type": "code",
      "source": [],
      "metadata": {
        "id": "eS2makqQIjJf"
      },
      "execution_count": null,
      "outputs": []
    },
    {
      "cell_type": "markdown",
      "metadata": {
        "id": "or4__fVLRaC0"
      },
      "source": [
        "16 - Calcula el área de una circunferencia de radio 2cm (considerar pi=3.14)"
      ]
    },
    {
      "cell_type": "code",
      "source": [],
      "metadata": {
        "id": "fLkU-9ClIjlo"
      },
      "execution_count": null,
      "outputs": []
    },
    {
      "cell_type": "markdown",
      "metadata": {
        "id": "aBlOU8svRaC0"
      },
      "source": [
        "17 - Cuantos años tenías en el año 2000?"
      ]
    },
    {
      "cell_type": "code",
      "source": [],
      "metadata": {
        "id": "w1wvcS0-IkKL"
      },
      "execution_count": null,
      "outputs": []
    },
    {
      "cell_type": "markdown",
      "metadata": {
        "id": "3axNNcVeRaC0"
      },
      "source": [
        "18 - Calcula el volumen de un cubo de costado 3 cm"
      ]
    },
    {
      "cell_type": "code",
      "source": [],
      "metadata": {
        "id": "ZF_DFIhgIkp0"
      },
      "execution_count": null,
      "outputs": []
    },
    {
      "cell_type": "markdown",
      "metadata": {
        "id": "cQJ8Xd-zRaC0"
      },
      "source": [
        "## Booleanos"
      ]
    },
    {
      "cell_type": "markdown",
      "metadata": {
        "id": "nQ_GMHEdRaC0"
      },
      "source": [
        "19 - Si Elena tiene 15 años y Jorge tiene 20, comprueba quien es mayor"
      ]
    },
    {
      "cell_type": "code",
      "source": [],
      "metadata": {
        "id": "0tvnWIilIl0Z"
      },
      "execution_count": null,
      "outputs": []
    },
    {
      "cell_type": "markdown",
      "metadata": {
        "ExecuteTime": {
          "end_time": "2020-02-16T10:14:37.853694Z",
          "start_time": "2020-02-16T10:14:37.843040Z"
        },
        "id": "2qgpKBUdRaC0"
      },
      "source": [
        "20 - Comprueba efectivamente que Elena y Jorge no tienen la misma edad"
      ]
    },
    {
      "cell_type": "code",
      "source": [],
      "metadata": {
        "id": "K-D1JMphImWk"
      },
      "execution_count": null,
      "outputs": []
    },
    {
      "cell_type": "markdown",
      "metadata": {
        "id": "TLgikcbkRaC0"
      },
      "source": [
        "## Strings"
      ]
    },
    {
      "cell_type": "markdown",
      "metadata": {
        "id": "z92GrHL0RhGp"
      },
      "source": [
        "| Método | Descripción |\n",
        "| --- |:--- |\n",
        "|capitalize() |\tPone en mayúscula la primera letra|\n",
        "|casefold()|Pone en minúscula la primera letra|\n",
        "|center()\t|Centra el string|\n",
        "|count()\t|Devuelve el número de veces que se repite un carácter en un string|\n",
        "|encode()\t|Devuelve una versión encoded del string|\n",
        "|endswith()\t| Devuelve True si el string finaliza con un valor determinado|\n",
        "|expandtabs()|\tFija el tamaño del tab del string |\n",
        "|find()\t|Searches the string for a specified value and returns the position of where it was found|\n",
        "|format()\t|Formats specified values in a string|\n",
        "|format_map() |\tFormats specified values in a string|\n",
        "|index()\t|Searches the string for a specified value and returns the position of where it was found|\n",
        "|isalnum()\t|Returns True if all characters in the string are alphanumeric|\n",
        "|isalpha()\t|Returns True if all characters in the string are in the alphabet|\n",
        "|isdecimal()|\tReturns True if all characters in the string are decimals|\n",
        "|isdigit()\t|Returns True if all characters in the string are digits|\n",
        "|isidentifier()|\tReturns True if the string is an identifier|\n",
        "|islower()\t|Returns True if all characters in the string are lower case|\n",
        "|isnumeric()\t|Returns True if all characters in the string are numeric|\n",
        "|isprintable()|\tReturns True if all characters in the string are printable|\n",
        "|isspace()|\tReturns True if all characters in the string are whitespaces|\n",
        "|istitle()\t|Returns True if the string follows the rules of a title|\n",
        "|isupper()\t|Returns True if all characters in the string are upper case|\n",
        "|join()\t|Joins the elements of an iterable to the end of the string|\n",
        "|ljust()|\tReturns a left justified version of the string|\n",
        "|lower()\t|Converts a string into lower case|\n",
        "|lstrip()\t|Returns a left trim version of the string|\n",
        "|maketrans()\t|Returns a translation table to be used in translations|\n",
        "|partition()\t|Returns a tuple where the string is parted into three parts|\n",
        "|replace()\t|Returns a string where a specified value is replaced with a specified value|\n",
        "|rfind()|\tSearches the string for a specified value and returns the last position of where it was found|\n",
        "|rindex()\t|Searches the string for a specified value and returns the last position of where it was found|\n",
        "|rjust()|\tReturns a right justified version of the string|\n",
        "|rpartition()\t|Returns a tuple where the string is parted into three parts|\n",
        "|rsplit()\t|Splits the string at the specified separator, and returns a list|\n",
        "|rstrip()|\tReturns a right trim version of the string|\n",
        "|split()\t|Splits the string at the specified separator, and returns a list|\n",
        "|splitlines()\t|Splits the string at line breaks and returns a list|\n",
        "|startswith()|\tReturns true if the string starts with the specified value|\n",
        "|strip()\t|Returns a trimmed version of the string|\n",
        "|swapcase()\t|Swaps cases, lower case becomes upper case and vice versa|\n",
        "|title()\t|Converts the first character of each word to upper case|\n",
        "|translate()\t|Returns a translated string|\n",
        "|upper()\t|Converts a string into upper case|\n",
        "|zfill()\t|Fills the string with a specified number of 0 values at the beginning|"
      ]
    },
    {
      "cell_type": "markdown",
      "metadata": {
        "id": "qMtRuNj0RaC1"
      },
      "source": [
        "21 - ¿Cuántas letras tiene la palabra 'abecedario'?"
      ]
    },
    {
      "cell_type": "code",
      "source": [],
      "metadata": {
        "id": "PQbVO0krInxz"
      },
      "execution_count": null,
      "outputs": []
    },
    {
      "cell_type": "markdown",
      "metadata": {
        "id": "SdLSdfkbRaC1"
      },
      "source": [
        "22 - Pon en mayúscula las palabra abecedario"
      ]
    },
    {
      "cell_type": "code",
      "source": [],
      "metadata": {
        "id": "0ZgmDLWSIoQ7"
      },
      "execution_count": null,
      "outputs": []
    },
    {
      "cell_type": "markdown",
      "metadata": {
        "id": "IlgOPiWDRaC1"
      },
      "source": [
        "\\23 - Limpia de espacios el siguiente texto: \"  q u i e r o   a p r e n d e r   p y t h o n \""
      ]
    },
    {
      "cell_type": "code",
      "source": [
        " x= \"  q u i e r o   a p r e n d e r   p y t h o n \"\n"
      ],
      "metadata": {
        "id": "EI9IEmcvIo0F",
        "colab": {
          "base_uri": "https://localhost:8080/",
          "height": 36
        },
        "outputId": "208c0be8-7504-4ff0-8359-ac294b4c57bf"
      },
      "execution_count": null,
      "outputs": [
        {
          "output_type": "execute_result",
          "data": {
            "text/plain": [
              "' quiero aprender pyth'"
            ],
            "application/vnd.google.colaboratory.intrinsic+json": {
              "type": "string"
            }
          },
          "metadata": {},
          "execution_count": 2
        }
      ]
    },
    {
      "cell_type": "markdown",
      "metadata": {
        "id": "WxrvUEBeRaC1"
      },
      "source": [
        "24 - Reemplaza el \"no\" por un \"yo\" en el siguiente texto: \"no quiero aprender python, no quiero pasármelo genial!\""
      ]
    },
    {
      "cell_type": "code",
      "source": [],
      "metadata": {
        "id": "Qax3Yb-yIpZl"
      },
      "execution_count": null,
      "outputs": []
    },
    {
      "cell_type": "markdown",
      "metadata": {
        "id": "Hr-vc2TORaC1"
      },
      "source": [
        "25 - ¿Cuántas veces aparece el nombre Python en el siguiente texto?:\n",
        "\n",
        "\" Python is an interpreted, object-oriented, high-level programming language with dynamic semantics. Its high-level built in data structures, combined with dynamic typing and dynamic binding, make it very attractive for Rapid Application Development, as well as for use as a scripting or glue language to connect existing components together. Python's simple, easy to learn syntax emphasizes readability and therefore reduces the cost of program maintenance. Python supports modules and packages, which encourages program modularity and code reuse. The Python interpreter and the extensive standard library are available in source or binary form without charge for all major platforms, and can be freely distributed.\n",
        "\n",
        "Often, programmers fall in love with Python because of the increased productivity it provides. Since there is no compilation step, the edit-test-debug cycle is incredibly fast. Debugging Python programs is easy: a bug or bad input will never cause a segmentation fault. Instead, when the interpreter discovers an error, it raises an exception. When the program doesn't catch the exception, the interpreter prints a stack trace. A source level debugger allows inspection of local and global variables, evaluation of arbitrary expressions, setting breakpoints, stepping through the code a line at a time, and so on. The debugger is written in Python itself, testifying to Python's introspective power. On the other hand, often the quickest way to debug a program is to add a few print statements to the source: the fast edit-test-debug cycle makes this simple approach very effective.\"\n"
      ]
    },
    {
      "cell_type": "code",
      "source": [],
      "metadata": {
        "id": "oIHjPtTFIrbW"
      },
      "execution_count": null,
      "outputs": []
    },
    {
      "cell_type": "markdown",
      "metadata": {
        "id": "BqcqBUBjRaC2"
      },
      "source": [
        "26 - Pon en mayúscula la primera letra de cada palabra de la siguiente frase:\n",
        "\n",
        "\"python is an interpreted, object-oriented, high-level programming language with dynamic semantics. its high-level built in data structures, combined with dynamic typing and dynamic binding, make it very attractive for Rapid Application Development, as well as for use as a scripting or glue language to connect existing components together.\"\n"
      ]
    },
    {
      "cell_type": "code",
      "execution_count": null,
      "metadata": {
        "id": "DC3fMZflRaC2"
      },
      "outputs": [],
      "source": []
    }
  ],
  "metadata": {
    "colab": {
      "provenance": [],
      "include_colab_link": true
    },
    "kernelspec": {
      "display_name": "Python 3",
      "language": "python",
      "name": "python3"
    },
    "language_info": {
      "codemirror_mode": {
        "name": "ipython",
        "version": 3
      },
      "file_extension": ".py",
      "mimetype": "text/x-python",
      "name": "python",
      "nbconvert_exporter": "python",
      "pygments_lexer": "ipython3",
      "version": "3.8.3"
    },
    "latex_envs": {
      "LaTeX_envs_menu_present": true,
      "autoclose": false,
      "autocomplete": true,
      "bibliofile": "biblio.bib",
      "cite_by": "apalike",
      "current_citInitial": 1,
      "eqLabelWithNumbers": true,
      "eqNumInitial": 1,
      "hotkeys": {
        "equation": "Ctrl-E",
        "itemize": "Ctrl-I"
      },
      "labels_anchors": false,
      "latex_user_defs": false,
      "report_style_numbering": false,
      "user_envs_cfg": false
    },
    "toc": {
      "base_numbering": 1,
      "nav_menu": {},
      "number_sections": true,
      "sideBar": true,
      "skip_h1_title": false,
      "title_cell": "Table of Contents",
      "title_sidebar": "Contents",
      "toc_cell": false,
      "toc_position": {
        "height": "calc(100% - 180px)",
        "left": "10px",
        "top": "150px",
        "width": "418.3831481933594px"
      },
      "toc_section_display": true,
      "toc_window_display": false
    },
    "varInspector": {
      "cols": {
        "lenName": 16,
        "lenType": 16,
        "lenVar": 40
      },
      "kernels_config": {
        "python": {
          "delete_cmd_postfix": "",
          "delete_cmd_prefix": "del ",
          "library": "var_list.py",
          "varRefreshCmd": "print(var_dic_list())"
        },
        "r": {
          "delete_cmd_postfix": ") ",
          "delete_cmd_prefix": "rm(",
          "library": "var_list.r",
          "varRefreshCmd": "cat(var_dic_list()) "
        }
      },
      "types_to_exclude": [
        "module",
        "function",
        "builtin_function_or_method",
        "instance",
        "_Feature"
      ],
      "window_display": false
    }
  },
  "nbformat": 4,
  "nbformat_minor": 0
}