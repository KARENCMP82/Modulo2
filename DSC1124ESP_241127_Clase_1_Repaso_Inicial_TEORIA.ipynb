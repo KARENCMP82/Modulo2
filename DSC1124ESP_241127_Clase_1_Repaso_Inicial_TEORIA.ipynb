{
  "cells": [
    {
      "cell_type": "markdown",
      "metadata": {
        "id": "view-in-github",
        "colab_type": "text"
      },
      "source": [
        "<a href=\"https://colab.research.google.com/github/KARENCMP82/Modulo2/blob/main/DSC1124ESP_241127_Clase_1_Repaso_Inicial_TEORIA.ipynb\" target=\"_parent\"><img src=\"https://colab.research.google.com/assets/colab-badge.svg\" alt=\"Open In Colab\"/></a>"
      ]
    },
    {
      "cell_type": "markdown",
      "metadata": {
        "id": "XRVsN2w2q2Y6"
      },
      "source": [
        "![Nuclio logo](https://nuclio.school/wp-content/uploads/2018/12/nucleoDS-newBlack.png)"
      ]
    },
    {
      "cell_type": "markdown",
      "metadata": {
        "id": "a-1WP6YrW_Xc"
      },
      "source": [
        "# CLASE 1: Repaso Inicial - Lenguaje de programación Python\n",
        "Fecha: 27/11/2024"
      ]
    },
    {
      "cell_type": "markdown",
      "metadata": {
        "id": "yWb8C-sd-ls-"
      },
      "source": [
        "## Programando en Python"
      ]
    },
    {
      "cell_type": "markdown",
      "metadata": {
        "id": "h_POPCdh-ls-"
      },
      "source": [
        "### Tipos de Datos - Visión general\n",
        "\n",
        "Los tipos de datos son la manera de clasificar y organizar diferentes tipos de valores que pueden ser manipulados en una lenguaje de programación, como Python. Basicamente, cada valor en Python tiene un tipo de datos asociado, que determina qué puedes hacer con ese valor y cómo se almacenará en la memoria del ordenador."
      ]
    },
    {
      "cell_type": "markdown",
      "source": [
        "| Tipo de Dato        | Descripción                                                                     |\n",
        "|---------------------|---------------------------------------------------------------------------------|\n",
        "| None                | Representa la ausencia de valor o un valor nulo.                                 |\n",
        "| NotImplemented     | Utilizado para indicar que una operación no está implementada o no está definida para los operandos proporcionados. |\n",
        "| Elipsis             | Representa un valor especial utilizado principalmente en fatias (slices) de arrays multidimensionales para indicar \"todos los elementos\" en una dimensión. También puede ser usado como marcador de espacio reservado en funciones o métodos. |\n",
        "| **Numericos**           | Tipos numéricos en Python.                                                      |\n",
        "|    - **Numericos Enteros**  | Tipos numéricos enteros.                                                      |\n",
        "|       * **Enteros (int)**   | Representa números enteros sin punto decimal.                                  |\n",
        "|       * **Booleanos (bool)** | Representa los valores de verdad, es decir, Verdadero (True) o Falso (False). |\n",
        "|    - **Numericos Reales**   | Tipos numéricos reales.                                                       |\n",
        "|       * **Reales (float)**   | Representa números de punto flotante.                                          |\n",
        "|    - Numericos Complejos| Tipos numéricos complejos.                                                     |\n",
        "|       * Complejos (complex)| Representa números complejos con una parte real e imaginaria.                |\n",
        "| **Secuencias**          | Tipos de datos secuenciales en Python.                                           |\n",
        "|    - **Inmutables**         | Secuencias inmutables cuyos elementos no pueden ser modificados una vez creados. |\n",
        "|       * **Cadenas de caracteres (string)**| Representa secuencias de caracteres.                                     |\n",
        "|       * **Tuplas (tuple)**  | Representa secuencias ordenadas e inmutables de elementos.                        |\n",
        "|       * Bytes           | Representa secuencias de bytes inmutables.                                       |\n",
        "|    - **Mutables**           | Secuencias mutables cuyos elementos pueden ser modificados después de su creación. |\n",
        "|       * **Listas (list)**   | Representa secuencias ordenadas y mutables de elementos.                          |\n",
        "|       * Colecciones de bytes (bytearray()) | Representa secuencias de bytes mutables.                            |\n",
        "| **Conjuntos**           | Tipos de datos para representar conjuntos de elementos únicos.                    |\n",
        "|    * **Conjuntos (sets)**    | Representa conjuntos mutables de elementos únicos.                                |\n",
        "|    * Conjuntos congelados (frozenset)| Representa conjuntos inmutables de elementos únicos.                         |\n",
        "| **Mapeos**              | Tipos de datos para representar mapeos de claves a valores.                        |\n",
        "|    * **Diccionarios (dict)** | Representa mapeos mutables de claves a valores.                                   |\n",
        "| Tipos invocables    | Tipos de datos que pueden ser llamados como funciones.                             |\n",
        "|    * Funciones           | Representa funciones definidas por el usuario o funciones integradas.              |\n",
        "|    * Clases              | Representa clases que pueden ser llamadas para crear instancias de objetos.       |\n",
        "[...]\n",
        "\n",
        "(Fuente: https://docs.python.org/es/3/reference/datamodel.html#objects-values-and-types)"
      ],
      "metadata": {
        "id": "SlzW4woAvX8r"
      }
    },
    {
      "cell_type": "markdown",
      "source": [
        "En nuestro contexto, enfocaremos:"
      ],
      "metadata": {
        "id": "HP2uJsg9zYrp"
      }
    },
    {
      "cell_type": "markdown",
      "metadata": {
        "id": "rryUYEuR-ls_"
      },
      "source": [
        "| Tipo de Dato   | Descripción                                                 | Ejemplo                     |\n",
        "|----------------|-------------------------------------------------------------|-----------------------------|\n",
        "| Primitivos     |                                                             |                             |\n",
        "| `int`          | Números enteros                                             | `x = 5`                     |\n",
        "| `float`        | Números de punto flotante                                   | `y = 3.14`                  |\n",
        "| `bool`         | Valores booleanos (True o False)                            | `z = True`                  |\n",
        "| `string(str)`          | Cadenas de texto                                            | `cadena = \"Hola\"`           |\n",
        "| Estructurados |                                                             |                             |\n",
        "| `list`         | Secuencia mutable de elementos                              | `lista = [1, 2, 3]`         |\n",
        "| `tuple`        | Secuencia inmutable de elementos                            | `tupla = (1, 2, 3)`         |\n",
        "| `set`          | Colección no ordenada y sin elementos duplicados           | `conjunto = {1, 2, 3}`      |\n",
        "| `dict`         | Colección de pares clave-valor                              | `diccionario = {'a': 1}`    |\n"
      ]
    },
    {
      "cell_type": "markdown",
      "metadata": {
        "id": "BTbrJGFVcuI8"
      },
      "source": [
        "## Variables en Python\n"
      ]
    },
    {
      "cell_type": "markdown",
      "metadata": {
        "id": "t50p7myX-ltA"
      },
      "source": [
        "### Creación de variables\n",
        "\n",
        "Las variables son espacios de memoria dedicados para almacenar algún contenido/valor.\n",
        "\n",
        "Python es un lenguaje de tipado dinámico. Esto significa que sus variables se crean en el momento en que les asignamos un valor y su tipo se define según su contenido, independientemente de la predefinición, lo que también permite su posterior reutilización (reciclaje)."
      ]
    },
    {
      "cell_type": "code",
      "execution_count": null,
      "metadata": {
        "colab": {
          "base_uri": "https://localhost:8080/"
        },
        "id": "DsYV2q4v-ltA",
        "outputId": "4075b7f3-ddae-4aa9-c24c-99a53c6be465"
      },
      "outputs": [
        {
          "output_type": "stream",
          "name": "stdout",
          "text": [
            "1\n",
            "2.2\n",
            "Hola mundo!\n"
          ]
        }
      ],
      "source": [
        "#Variable Int\n",
        "a=1\n",
        "\n",
        "#Variable Float\n",
        "b=2.2\n",
        "\n",
        "#Variable String\n",
        "c=\"Hola mundo!\"\n",
        "\n",
        "print(a)\n",
        "print(b)\n",
        "print(c)\n"
      ]
    },
    {
      "cell_type": "code",
      "execution_count": null,
      "metadata": {
        "id": "GM-xF59p-ltC",
        "outputId": "8935c2f6-4e5c-447e-8099-d0c4d6025f1d",
        "colab": {
          "base_uri": "https://localhost:8080/"
        }
      },
      "outputs": [
        {
          "output_type": "stream",
          "name": "stdout",
          "text": [
            "1.2662\n",
            "Estoy aqui\n",
            "3\n"
          ]
        }
      ],
      "source": [
        "#Reutilización de variables\n",
        "a=1.2662\n",
        "print(a)\n",
        "\n",
        "a=\"Estoy aqui\"\n",
        "print(a)\n",
        "\n",
        "a=3\n",
        "print(a)"
      ]
    },
    {
      "cell_type": "code",
      "execution_count": null,
      "metadata": {
        "id": "Ot4a8_WG-ltC",
        "outputId": "e83eb9f4-14bb-4c77-ffcf-48bb76eba094",
        "colab": {
          "base_uri": "https://localhost:8080/"
        }
      },
      "outputs": [
        {
          "output_type": "stream",
          "name": "stdout",
          "text": [
            "1\n",
            "2.2\n",
            "Hola Mundo!\n",
            "10\n",
            "15\n",
            "5\n"
          ]
        }
      ],
      "source": [
        "#Asignación Múltiple\n",
        "x,y,z=1,2.2,\"Hola Mundo!\"\n",
        "\n",
        "print(x)\n",
        "print(y)\n",
        "print(z)"
      ]
    },
    {
      "cell_type": "markdown",
      "metadata": {
        "id": "XCE_vvVq-ltD"
      },
      "source": [
        "\n",
        "Importante: Una variable puede requerir más o menos espacio en la memoria dependiendo del tipo de datos que representa."
      ]
    },
    {
      "cell_type": "code",
      "source": [
        "a=1\n",
        "b=2.2\n",
        "c=\"3\""
      ],
      "metadata": {
        "id": "poYs4iEhYIkP"
      },
      "execution_count": null,
      "outputs": []
    },
    {
      "cell_type": "code",
      "execution_count": null,
      "metadata": {
        "id": "GfIq2nmp-ltD",
        "outputId": "71b91ba1-8bd0-48de-f795-d4da35d1b11c",
        "colab": {
          "base_uri": "https://localhost:8080/"
        }
      },
      "outputs": [
        {
          "output_type": "stream",
          "name": "stdout",
          "text": [
            "Variable A, valor: 1, Tipo: <class 'int'>, tamaño de memoria: 28 bytes\n",
            "Variable B, valor: 2.2, Tipo: <class 'float'>, tamaño de memoria: 24 bytes\n",
            "Variable C, valor: 3, Tipo: <class 'str'>, tamaño de memoria: 50 bytes\n"
          ]
        }
      ],
      "source": [
        "import sys\n",
        "\n",
        "print(f\"Variable A, valor: {a}, Tipo: {type(a)}, tamaño de memoria: {sys.getsizeof(a)} bytes\", end=\"\\n\")\n",
        "print(f\"Variable B, valor: {b}, Tipo: {type(b)}, tamaño de memoria: {sys.getsizeof(b)} bytes\", end=\"\\n\")\n",
        "print(f\"Variable C, valor: {c}, Tipo: {type(c)}, tamaño de memoria: {sys.getsizeof(c)} bytes\", end=\"\\n\")\n"
      ]
    },
    {
      "cell_type": "markdown",
      "metadata": {
        "heading_collapsed": true,
        "id": "kLmbFQGxcuI_"
      },
      "source": [
        "### Reglas de nombres de variables\n",
        "\n",
        "Reglas para definir variables en Python:\n",
        "- el nombre de una variable debe **empezar por una letra o el símbolo _**\n",
        "- el nombre de una variable **NO puede empezar por un número**\n",
        "- el nombre de una variable **sólo puede contener carácteres alfanuméricos y guiones bajos(A-z, 0-9, and _ )**\n",
        "\n",
        "\n"
      ]
    },
    {
      "cell_type": "code",
      "execution_count": null,
      "metadata": {
        "ExecuteTime": {
          "end_time": "2020-02-01T20:23:55.325868Z",
          "start_time": "2020-02-01T20:23:55.317202Z"
        },
        "hidden": true,
        "id": "qdd5uf7xcuJC"
      },
      "outputs": [],
      "source": [
        "# Nombres de variables permitidos\n",
        "myvar = \"John\"\n",
        "my_var = \"John\"\n",
        "_my_var = \"John\"\n",
        "myVar = \"John\"\n",
        "MYVAR = \"John\"\n",
        "myvar2 = \"John\""
      ]
    },
    {
      "cell_type": "code",
      "execution_count": null,
      "metadata": {
        "ExecuteTime": {
          "end_time": "2020-02-01T20:24:14.222274Z",
          "start_time": "2020-02-01T20:24:14.215204Z"
        },
        "colab": {
          "base_uri": "https://localhost:8080/",
          "height": 110
        },
        "hidden": true,
        "id": "zi20TouEcuJD",
        "outputId": "fea4f914-7ec0-47d0-af9e-98d439919a04"
      },
      "outputs": [
        {
          "output_type": "error",
          "ename": "SyntaxError",
          "evalue": "invalid decimal literal (<ipython-input-144-fa05edb95615>, line 2)",
          "traceback": [
            "\u001b[0;36m  File \u001b[0;32m\"<ipython-input-144-fa05edb95615>\"\u001b[0;36m, line \u001b[0;32m2\u001b[0m\n\u001b[0;31m    2myvar = \"John\"\u001b[0m\n\u001b[0m    ^\u001b[0m\n\u001b[0;31mSyntaxError\u001b[0m\u001b[0;31m:\u001b[0m invalid decimal literal\n"
          ]
        }
      ],
      "source": [
        "#Nombre de variables no permitidos\n",
        "2myvar = \"John\"\n",
        "my-var = \"John\"\n",
        "my var = \"John\""
      ]
    },
    {
      "cell_type": "markdown",
      "metadata": {
        "id": "BH7QmHWW-ltD"
      },
      "source": [
        "Además, existe un **conjunto de palabras que no podemos utilizar** para nombrar variables ni funciones, ya que Python las reserva para uso interno.\n",
        "Python dispone de un recurso para acceder a estas palabras directamente a través del código:"
      ]
    },
    {
      "cell_type": "code",
      "execution_count": null,
      "metadata": {
        "id": "LLHbBcFq-ltD",
        "outputId": "eafe716c-abf9-4523-c401-9d13163ede99",
        "colab": {
          "base_uri": "https://localhost:8080/"
        }
      },
      "outputs": [
        {
          "output_type": "stream",
          "name": "stdout",
          "text": [
            "['False', 'None', 'True', 'and', 'as', 'assert', 'async', 'await', 'break', 'class', 'continue', 'def', 'del', 'elif', 'else', 'except', 'finally', 'for', 'from', 'global', 'if', 'import', 'in', 'is', 'lambda', 'nonlocal', 'not', 'or', 'pass', 'raise', 'return', 'try', 'while', 'with', 'yield']\n"
          ]
        }
      ],
      "source": [
        "import keyword\n",
        "print(keyword.kwlist)\n",
        "\n",
        "# ['False', 'None', 'True', 'and', 'as', 'assert', 'async', 'await', 'break', 'class', 'continue','def', 'del', 'elif', 'else', 'except', 'finally',\n",
        "# 'for', 'from', 'global', 'if', 'import', 'in', 'is', 'lambda', 'nonlocal', 'not', 'or', 'pass', 'raise', 'return', 'try', 'while', 'with', 'yield']"
      ]
    },
    {
      "cell_type": "markdown",
      "metadata": {
        "id": "aFyZkjZI-ltE"
      },
      "source": [
        "**¡Cuidado!** Python es un lenguaje **\"case sensitive\"**, lo que significa que distingue entre letras minúsculas y mayúsculas en sus variables."
      ]
    },
    {
      "cell_type": "code",
      "execution_count": null,
      "metadata": {
        "id": "UnLN7bhB-ltE",
        "outputId": "ed774685-a3ba-456c-a0f5-c412a509457c",
        "colab": {
          "base_uri": "https://localhost:8080/"
        }
      },
      "outputs": [
        {
          "output_type": "stream",
          "name": "stdout",
          "text": [
            "0\n",
            "No soy zero\n"
          ]
        }
      ],
      "source": [
        "variable = 0\n",
        "Variable = \"No soy zero\"\n",
        "\n",
        "print(variable)\n",
        "print(Variable)"
      ]
    },
    {
      "cell_type": "markdown",
      "metadata": {
        "id": "affsFi8K-ltE"
      },
      "source": [
        "La Python Software Foundation mantiene un manual con convenciones de estilo de código llamado \"PEP 8 - Guía de Estilo para Código Python\" (https://peps.python.org/pep-0008/#naming-conventions). Algunas buenas prácticas:"
      ]
    },
    {
      "cell_type": "code",
      "execution_count": null,
      "metadata": {
        "id": "aMnyHY__-ltE"
      },
      "outputs": [],
      "source": [
        "#Variable con nombre descriptivo y significativo\n",
        "numero_de_alumnos = 10\n",
        "total_ventas = 10000\n",
        "\n",
        "#Variable en minúsculas y usando snake_case\n",
        "lista_de_nombres = [\"Alice\", \"Bob\", \"Charlie\"]\n",
        "\n",
        "#Nombre semántico para tipo de dato compuesto\n",
        "diccionario_de_configuraciones = {\"modo\": \"debug\", \"nivel_de_log\": \"info\"}\n",
        "\n",
        "#Evitando nombres de una sola letra\n",
        "indice = 0 # Preferible a \"i\", \"x\"\n",
        "\n",
        "#Mayúsculas para constantes\n",
        "NOMBRE_ARCHIVO = \"texto.txt\""
      ]
    },
    {
      "cell_type": "markdown",
      "metadata": {
        "id": "GrJpWU7N-ltE"
      },
      "source": [
        "### Mutabilidad\n"
      ]
    },
    {
      "cell_type": "code",
      "source": [
        "x = 10\n",
        "print(x)\n",
        "\n",
        "y = x\n",
        "\n",
        "x = 15\n",
        "\n",
        "print(y)\n",
        "print(x)\n"
      ],
      "metadata": {
        "colab": {
          "base_uri": "https://localhost:8080/"
        },
        "id": "d1a1urGMYtux",
        "outputId": "6092dc4b-9c05-4c2c-b3e7-dae6c60c67fd"
      },
      "execution_count": null,
      "outputs": [
        {
          "output_type": "stream",
          "name": "stdout",
          "text": [
            "10\n",
            "10\n",
            "15\n"
          ]
        }
      ]
    },
    {
      "cell_type": "code",
      "source": [
        "str_1 = \"hello\"\n",
        "print(str_1)\n",
        "\n",
        "str_2 = str_1\n",
        "\n",
        "str_1 = \"Hola\"\n",
        "\n",
        "print(str_1)\n",
        "print(str_2)\n"
      ],
      "metadata": {
        "colab": {
          "base_uri": "https://localhost:8080/"
        },
        "id": "j7CLWH0CZD58",
        "outputId": "f8e053da-25bf-4707-85e5-c5554b650f92"
      },
      "execution_count": null,
      "outputs": [
        {
          "output_type": "stream",
          "name": "stdout",
          "text": [
            "hello\n",
            "Hola\n",
            "hello\n"
          ]
        }
      ]
    },
    {
      "cell_type": "code",
      "source": [
        "print(f\"Dirección de memoria: {id(x)}\")\n",
        "print(f\"Dirección de memoria: {id(y)}\")"
      ],
      "metadata": {
        "colab": {
          "base_uri": "https://localhost:8080/"
        },
        "id": "dJ8RT_6WZldm",
        "outputId": "3a7c71ed-b459-4415-d124-f6c4eb3e0dcc"
      },
      "execution_count": null,
      "outputs": [
        {
          "output_type": "stream",
          "name": "stdout",
          "text": [
            "Dirección de memoria: 138053037736624\n",
            "Dirección de memoria: 138053037736464\n"
          ]
        }
      ]
    },
    {
      "cell_type": "code",
      "source": [
        "print(f\"Dirección de memoria: {id(str_1)}\")\n",
        "print(f\"Dirección de memoria: {id(str_2)}\")"
      ],
      "metadata": {
        "colab": {
          "base_uri": "https://localhost:8080/"
        },
        "id": "VCHSJKrEZm-V",
        "outputId": "a89b5d94-643b-472f-9720-60b1c180ec16"
      },
      "execution_count": null,
      "outputs": [
        {
          "output_type": "stream",
          "name": "stdout",
          "text": [
            "Dirección de memoria: 138052397966768\n",
            "Dirección de memoria: 138052745746800\n"
          ]
        }
      ]
    },
    {
      "cell_type": "markdown",
      "metadata": {
        "id": "l-Si5-XK-ltE"
      },
      "source": [
        "- **Variables inmutables**: son aquellas cuyo valor no puede ser alterado después de la asignación inicial. Cuando intentas modificar el valor de una variable inmutable, lo que realmente sucede es que se crea una nueva instancia del valor. **Ejemplos**: números enteros, números de punto flotante, cadenas y tuplas."
      ]
    },
    {
      "cell_type": "code",
      "execution_count": null,
      "metadata": {
        "id": "d85GncBs-ltF",
        "outputId": "8b742c29-6b8a-4f18-fa5b-8a4b22d44371",
        "colab": {
          "base_uri": "https://localhost:8080/"
        }
      },
      "outputs": [
        {
          "output_type": "stream",
          "name": "stdout",
          "text": [
            "[1, 2, 3, 4]\n",
            "[1, 2, 3, 4]\n",
            "Dirección de memoria: 133529575289088\n",
            "Dirección de memoria: 133529575289088\n"
          ]
        }
      ],
      "source": [
        "lista1 = [1, 2, 3]\n",
        "\n",
        "\n",
        "lista2 = lista1\n",
        "\n",
        "lista2.append(4)\n",
        "\n",
        "print(lista1)\n",
        "print(lista2)\n",
        "\n"
      ]
    },
    {
      "cell_type": "code",
      "source": [
        "print(f\"Dirección de memoria: {id(lista1)}\")\n",
        "print(f\"Dirección de memoria: {id(lista2)}\")"
      ],
      "metadata": {
        "id": "f549XOODaJzy"
      },
      "execution_count": null,
      "outputs": []
    },
    {
      "cell_type": "markdown",
      "metadata": {
        "id": "A9c8amoh-ltE"
      },
      "source": [
        "- **Variáveis Mutables:** son aquellas cuyo valor puede ser alterado después de la asignación inicial. Puedes modificar directamente el contenido de una variable mutable sin crear una nueva instancia del valor. **Ejemplos**: listas, diccionarios y conjuntos."
      ]
    },
    {
      "cell_type": "markdown",
      "metadata": {
        "id": "DKzWSyOb-ltE"
      },
      "source": [
        "Es relevante identificar si una variable es mutable o inmutable por varias razones:\n",
        "\n",
        "- Comportamiento de Asignación: Con variables mutables, la modificación de una variable puede afectar a otras variables que hacen referencia al mismo objeto en la memoria. Esto puede provocar efectos secundarios inesperados y difíciles de depurar si no se está consciente de este comportamiento. Por otro lado, con variables inmutables, puedes tener más confianza en que la variable mantendrá su valor original sin cambios no deseados.\n",
        "\n",
        "- Eficiencia de Memoria: El uso de variables mutables puede ser más eficiente en términos de memoria, ya que puedes modificar el contenido de la variable sin necesidad de crear una nueva instancia del objeto. Por el contrario, con variables inmutables, siempre se necesita crear una nueva instancia del objeto cada vez que se desea modificar su valor."
      ]
    },
    {
      "cell_type": "code",
      "execution_count": null,
      "metadata": {
        "id": "ER4hNzSd-ltF",
        "outputId": "f3544494-332a-4257-b1e3-4307d5c08482",
        "colab": {
          "base_uri": "https://localhost:8080/"
        }
      },
      "outputs": [
        {
          "output_type": "stream",
          "name": "stdout",
          "text": [
            "Dirección de memoria: 133530430503344\n",
            "Dirección de memoria: 133529574507632\n",
            "Dirección de memoria: 133530430503344\n"
          ]
        }
      ],
      "source": [
        "#Mapeo de cadenas con mismo valor en Python:\n",
        "\n",
        "d = \"hello\"\n",
        "e = \"world\"\n",
        "f = \"hello\"\n",
        "\n",
        "print(f\"Dirección de memoria: {id(d)}\")\n",
        "print(f\"Dirección de memoria: {id(e)}\")\n",
        "print(f\"Dirección de memoria: {id(f)}\")"
      ]
    },
    {
      "cell_type": "markdown",
      "metadata": {
        "id": "bS1rcgmX-ltF"
      },
      "source": [
        "## Operadores\n",
        "\n",
        "Los operadores en Python son símbolos especiales que se utilizan para realizar operaciones en valores y variables. Se dividen en los siguientes grupos:\n",
        "\n",
        "- Operadores aritméticos\n",
        "- Operadores de asignación\n",
        "- Operadores de comparación\n",
        "- Operadores lógicos\n",
        "- Operadores de pertenencia\n",
        "- Operadores de identidad\n",
        "- Operadores bitwise\n",
        "\n"
      ]
    },
    {
      "cell_type": "markdown",
      "metadata": {
        "id": "sPAL_0eb-ltF"
      },
      "source": [
        "### Operadores Aritméticos\n",
        "\n",
        "Se utilizan para realizar operaciones matemáticas en valores numéricos.\n",
        "\n",
        "| Operador | Nombre | Ejemplo |\n",
        "|:--- |:--- | :--- |\n",
        "|+ |Suma|x + y|\n",
        "|- |Resta|x - y|\n",
        "|* |Multiplicación|x * y|\n",
        "|/ |División|x / y|\n",
        "|% |Módulo|x % y|\n",
        "|** |Exponenciación|x ** y|\n",
        "|// | Division entera|x // y|"
      ]
    },
    {
      "cell_type": "code",
      "execution_count": null,
      "metadata": {
        "id": "xIqx9SSV-ltF",
        "colab": {
          "base_uri": "https://localhost:8080/"
        },
        "outputId": "0870bb01-d286-4915-8477-e3aa6a06963b"
      },
      "outputs": [
        {
          "output_type": "stream",
          "name": "stdout",
          "text": [
            "suma: 52\n",
            "resta: 32\n",
            "producto: 420\n",
            "división: 4.2\n",
            "división entera: 4\n",
            "resto: 2\n",
            "exponenciación: 1764\n"
          ]
        }
      ],
      "source": [
        "# Definición de números enteros\n",
        "x = 42\n",
        "y = 10\n",
        "\n",
        "\n",
        "\n"
      ]
    },
    {
      "cell_type": "code",
      "source": [
        "#"
      ],
      "metadata": {
        "id": "dymaJ_0MN-z8"
      },
      "execution_count": null,
      "outputs": []
    },
    {
      "cell_type": "markdown",
      "metadata": {
        "id": "-p3yfeRz-ltF"
      },
      "source": [
        "### Operadores de Asignación\n",
        "\n",
        "Los operadores de asignación se usan para asignar valores a variables\n",
        "\n",
        "| Operador | Nombre | Análogo |\n",
        "|:--- |:--- | :--- |\n",
        "| = |x = 5|x = 5|\n",
        "|+=\t|x += 3|x = x + 3|\n",
        "|-=\t|x -= 3|x = x - 3|\n",
        "|*=\t|x *= 3|x = x * 3|\n",
        "|/=\t|x /= 3|x = x / 3|\n",
        "|%=\t|x %= 3|x = x % 3|\n",
        "|//=|x //= 3\t|x = x // 3|\n",
        "|**=|x **= 3\t|x = x ** 3|\n"
      ]
    },
    {
      "cell_type": "code",
      "execution_count": null,
      "metadata": {
        "id": "2snY6F1V-ltF"
      },
      "outputs": [],
      "source": []
    },
    {
      "cell_type": "code",
      "source": [],
      "metadata": {
        "id": "l7sUxixkOfbi"
      },
      "execution_count": null,
      "outputs": []
    },
    {
      "cell_type": "markdown",
      "metadata": {
        "id": "dr4ABoRI-ltF"
      },
      "source": [
        "### Operadores de comparación\n",
        "\n",
        "Se utilizan para comparar valores y devolver un resultado booleano (verdadero o falso).\n",
        "\n",
        "|   Operador      |   Descripción   |   Ejemplo   |\n",
        "|:--- |:--- | :--- |\n",
        "|==|Igual|x == y|\n",
        "|!=|No igual|x != y|\n",
        "|>|Mayor que|x > y|\n",
        "|<|Menor que |x < y|\n",
        "|>=|Mayor o igual que|x >= y|\n",
        "|<=|Menor o igual que|x <= y|"
      ]
    },
    {
      "cell_type": "code",
      "execution_count": null,
      "metadata": {
        "id": "pOG1Q_Rr-ltG"
      },
      "outputs": [],
      "source": []
    },
    {
      "cell_type": "markdown",
      "metadata": {
        "id": "kXMPjBwT-ltG"
      },
      "source": [
        "### Operadores Lógicos\n",
        "\n",
        "Se utilizan para combinar expresiones condicionales y devolver un resultado booleano.\n",
        "\n",
        "| Operador | Descripción | Ejemplo |\n",
        "|--- |:--- | --- |\n",
        "|and |Devuelve True si las dos instancias son ciertas|x < 5 and  x < 10|\n",
        "|or|Devuelve True si una de las dos instancias son ciertas e|x < 5 or x < 4|\n",
        "|not|Invierte el resultado, devuelve False si el resultado no es cierto|not(x < 5 and x < 10)  |          \n",
        "            \n"
      ]
    },
    {
      "cell_type": "code",
      "execution_count": null,
      "metadata": {
        "id": "89-QMnFo-ltG"
      },
      "outputs": [],
      "source": []
    },
    {
      "cell_type": "markdown",
      "metadata": {
        "id": "Zugl7Xfg-ltM"
      },
      "source": [
        "### Operadores de pertenencia/membresía\n",
        "Se utilizan en conjunción con estructuras de datos para verificar si un valor está presente o no.\n",
        "\n",
        "| Operador | Descripción | Ejemplo |\n",
        "|--- |:--- | --- |\n",
        "|in |Devuelve True si la secuencia con el valor especificado aparece en el objeto|x in y|\n",
        "|not in\t|Devuelve True si la secuencia con el valor especifica no aparece en el objeto|x not in y|"
      ]
    },
    {
      "cell_type": "code",
      "execution_count": null,
      "metadata": {
        "id": "v0rLv_O5-ltM",
        "outputId": "197cb8c8-5ab9-4089-b26b-ee5d4a478dc5",
        "colab": {
          "base_uri": "https://localhost:8080/"
        }
      },
      "outputs": [
        {
          "output_type": "stream",
          "name": "stdout",
          "text": [
            "True\n",
            "True\n"
          ]
        }
      ],
      "source": [
        "palabra = \"Chocolate\"\n",
        "\n",
        "print(\"c\" in palabra)\n",
        "print(\"d\" not in palabra)"
      ]
    },
    {
      "cell_type": "markdown",
      "metadata": {
        "id": "YXb4e_LL-ltM"
      },
      "source": [
        "### Precedencia entre operadores\n",
        "\n",
        "La precedencia entre operadores en Python determina el orden en el que las operaciones se llevan a cabo cuando hay varias operaciones en una expresión. En otras palabras, establece qué operaciones se realizan primero y cuáles se realizan después. Es importante comprender la precedencia de operadores para escribir código claro y evitar resultados inesperados.\n",
        "\n",
        "Aquí hay una lista de precedencia de operadores en Python, de mayor a menor precedencia (https://docs.python.org/es/3/reference/expressions.html#operator-summary):\n",
        "\n",
        "- **Paréntesis ()**: Los paréntesis tienen la mayor precedencia y se utilizan para agrupar partes de una expresión. Las operaciones dentro de los paréntesis se realizan primero.\n",
        "\n",
        "- **Operadores de potencia** **;\n",
        "\n",
        "- **Multiplicación *, División /, División entera //, Módulo %**;\n",
        "\n",
        "- **Suma +, Resta -**\n",
        "\n"
      ]
    },
    {
      "cell_type": "code",
      "execution_count": null,
      "metadata": {
        "id": "mowVMxYI-ltN",
        "outputId": "4fd7903c-188a-49e8-acf9-eab12894e37d",
        "colab": {
          "base_uri": "https://localhost:8080/"
        }
      },
      "outputs": [
        {
          "output_type": "stream",
          "name": "stdout",
          "text": [
            "11\n"
          ]
        }
      ],
      "source": [
        "#Operadores con la misma precedencia en una expresión se evalúan de izquierda a derecha.\n",
        "operacion = 5 + 2 * 3\n",
        "print(operacion)"
      ]
    },
    {
      "cell_type": "code",
      "execution_count": null,
      "metadata": {
        "id": "J-NyEkyy-ltN",
        "colab": {
          "base_uri": "https://localhost:8080/"
        },
        "outputId": "a21f313d-41c8-4b49-8aec-82aaa63e232f"
      },
      "outputs": [
        {
          "output_type": "stream",
          "name": "stdout",
          "text": [
            "21\n"
          ]
        }
      ],
      "source": [
        "#Es posible cambiar el orden de evaluación utilizando paréntesis.\n",
        "\n",
        "operacion = (5 + 2) * 3\n",
        "print(operacion)\n"
      ]
    },
    {
      "cell_type": "code",
      "source": [],
      "metadata": {
        "id": "1sJM7freDCpv"
      },
      "execution_count": null,
      "outputs": []
    },
    {
      "cell_type": "code",
      "source": [],
      "metadata": {
        "id": "XyrZX7X-DbyW"
      },
      "execution_count": null,
      "outputs": []
    },
    {
      "cell_type": "code",
      "source": [],
      "metadata": {
        "id": "TCF4TixgDj7V"
      },
      "execution_count": null,
      "outputs": []
    },
    {
      "cell_type": "code",
      "source": [],
      "metadata": {
        "id": "674WpYHxDnSY"
      },
      "execution_count": null,
      "outputs": []
    },
    {
      "cell_type": "markdown",
      "metadata": {
        "id": "Jp-k2tDp-ltN"
      },
      "source": []
    },
    {
      "cell_type": "markdown",
      "metadata": {
        "id": "kfWCTjZF-ltN"
      },
      "source": [
        "## Tipos de datos primitivos"
      ]
    },
    {
      "cell_type": "markdown",
      "metadata": {
        "id": "KMAu6o7f-ltN"
      },
      "source": [
        "### **int** (integer - entero )\n",
        "Se utiliza para representar números enteros, es decir, números sin parte fraccionaria. Estos números pueden ser positivos, negativos o cero.\n",
        "\n",
        "No tienen límite superior o inferior en su tamaño, siempre y cuando la memoria de la computadora lo permita."
      ]
    },
    {
      "cell_type": "code",
      "execution_count": null,
      "metadata": {
        "id": "y6EOjHdu-ltN",
        "outputId": "1408f48e-8cda-43aa-d490-0bc6c9d3de21",
        "colab": {
          "base_uri": "https://localhost:8080/"
        }
      },
      "outputs": [
        {
          "output_type": "stream",
          "name": "stdout",
          "text": [
            "42\n",
            "42\n"
          ]
        }
      ],
      "source": [
        "# Definición de números enteros\n",
        "x = 42\n",
        "y = 10"
      ]
    },
    {
      "cell_type": "code",
      "source": [
        "# Operaciones aritméticas\n",
        "suma = x + y\n",
        "resta = x - y\n",
        "producto = x * y\n",
        "division = x / y\n",
        "division_entera = x // y\n",
        "resto = x % y\n",
        "exponenciacion = x ** 2\n",
        "\n",
        "\n",
        "print(f\"suma: {suma}\")\n",
        "print(f\"resta: {resta}\")\n",
        "print(f\"producto: {producto}\")\n",
        "print(f\"división: {division}\")\n",
        "print(f\"división entera: {division_entera}\")\n",
        "print(f\"resto: {resto}\")\n",
        "print(f\"exponenciación: {exponenciacion}\")"
      ],
      "metadata": {
        "id": "XF8NxJT_buOR"
      },
      "execution_count": null,
      "outputs": []
    },
    {
      "cell_type": "code",
      "source": [
        "# Conversión\n",
        "numero_string = \"42\"\n",
        "numero_entero = int(numero_string)\n",
        "\n",
        "print(numero_string)\n",
        "print(numero_entero)"
      ],
      "metadata": {
        "id": "cEZchz6wbylx"
      },
      "execution_count": null,
      "outputs": []
    },
    {
      "cell_type": "code",
      "source": [
        "#División de enteros, con resultado entero, no es entero ?\n"
      ],
      "metadata": {
        "id": "w84HQErTFFs-"
      },
      "execution_count": null,
      "outputs": []
    },
    {
      "cell_type": "markdown",
      "metadata": {
        "id": "y9h0XRes-ltN"
      },
      "source": [
        "### **float** (floating point - punto flotante)\n",
        "Se utiliza para representar números de punto flotante, es decir, números con parte fraccionaria. Estos números pueden ser positivos, negativos o cero.\n",
        "\n",
        "Los números de punto flotante en Python tienen tamaño fijo (estándar IEEE 754) y tienen una precisión limitada, lo que puede llevar a errores de redondeo en cálculos muy precisos o con números extremadamente grandes o pequeños.\n",
        "\n",
        "También pueden representarse en notación científica.\n"
      ]
    },
    {
      "cell_type": "code",
      "execution_count": null,
      "metadata": {
        "id": "GxUJGKk--ltN",
        "outputId": "190ba2ce-4576-4a86-ab97-6eee75387d54",
        "colab": {
          "base_uri": "https://localhost:8080/"
        }
      },
      "outputs": [
        {
          "output_type": "stream",
          "name": "stdout",
          "text": [
            "4.99159 5.8119415 1.6981567567567566\n",
            "3.14\n",
            "3.14\n"
          ]
        }
      ],
      "source": [
        "# Definición de números de punto flotante\n",
        "pi = 3.14159\n",
        "altura = 1.85\n"
      ]
    },
    {
      "cell_type": "code",
      "source": [
        "# Operaciones aritméticas\n",
        "suma = pi + altura\n",
        "producto = pi * altura\n",
        "division = pi / altura\n",
        "\n",
        "print(suma)\n",
        "print(producto)\n",
        "print(division)"
      ],
      "metadata": {
        "id": "KcJLqOV6Tdug"
      },
      "execution_count": null,
      "outputs": []
    },
    {
      "cell_type": "code",
      "source": [
        "# Conversión\n",
        "numero_string = \"3.14\"\n",
        "numero_flotante = float(numero_string)"
      ],
      "metadata": {
        "id": "zmrx9t5yTe9V"
      },
      "execution_count": null,
      "outputs": []
    },
    {
      "cell_type": "code",
      "source": [
        "print(suma, producto, division)\n",
        "print(numero_string)\n",
        "print(numero_flotante)"
      ],
      "metadata": {
        "id": "MvejsPXWTglr"
      },
      "execution_count": null,
      "outputs": []
    },
    {
      "cell_type": "markdown",
      "metadata": {
        "id": "yyXAD507-ltN"
      },
      "source": [
        "### **bool** (boolean)\n",
        " Representa un valor lógico que puede ser verdadero (True) o falso (False). Este tipo de dato es fundamental en programación, especialmente en lógica condicional y operaciones de control de flujo.\n"
      ]
    },
    {
      "cell_type": "code",
      "execution_count": null,
      "metadata": {
        "id": "XT4hrZEm-ltN"
      },
      "outputs": [],
      "source": [
        "# Definir variables booleanas\n",
        "verdadero = True\n",
        "falso = False"
      ]
    },
    {
      "cell_type": "code",
      "source": [
        "# Operaciones lógicas\n",
        "resultado_and = verdadero and falso\n",
        "resultado_or = verdadero or falso\n",
        "resultado_not = not verdadero\n",
        "\n",
        "print(resultado_and)\n",
        "print(resultado_or)\n",
        "print(resultado_not)"
      ],
      "metadata": {
        "id": "vLRcgoAua1ZG"
      },
      "execution_count": null,
      "outputs": []
    },
    {
      "cell_type": "code",
      "source": [
        "# Comparación\n",
        "comparacion = 5 > 3\n",
        "\n",
        "print(comparacion)"
      ],
      "metadata": {
        "id": "KEly4zdna8RE"
      },
      "execution_count": null,
      "outputs": []
    },
    {
      "cell_type": "code",
      "source": [
        "# Conversión\n",
        "valor_convertido = bool(43)\n",
        "print(valor_convertido)\n"
      ],
      "metadata": {
        "colab": {
          "base_uri": "https://localhost:8080/"
        },
        "id": "BuEgFUZsbHpR",
        "outputId": "35e7fd78-2467-412c-f859-a1b12ddbf802"
      },
      "execution_count": null,
      "outputs": [
        {
          "output_type": "stream",
          "name": "stdout",
          "text": [
            "True\n"
          ]
        }
      ]
    },
    {
      "cell_type": "code",
      "source": [
        "# Uso en estructuras de control\n",
        "if verdadero:\n",
        "    print(\"Este mensaje será impreso.\")\n",
        "\n",
        "if not falso:\n",
        "    print(\"Este mensaje también será impreso.\")\n"
      ],
      "metadata": {
        "colab": {
          "base_uri": "https://localhost:8080/"
        },
        "id": "VaKh8mOPbYEt",
        "outputId": "e35ed8dd-6340-4586-987f-06e76493d1b6"
      },
      "execution_count": null,
      "outputs": [
        {
          "output_type": "stream",
          "name": "stdout",
          "text": [
            "Este mensaje será impreso.\n",
            "Este mensaje también será impreso.\n"
          ]
        }
      ]
    },
    {
      "cell_type": "markdown",
      "metadata": {
        "id": "E8IQjkAU-ltO"
      },
      "source": [
        "### **string** (\"str\" - cadena de caracteres)\n",
        "\n",
        "Es una secuencia de caracteres que se utiliza para representar texto.  Cada caracter tiene asignado un índice numérico, começando em 0.\n",
        "\n",
        "Los índices son números enteros que indican la posición de un carácter dentro de la cadena. Permitem acceder y manipular a las cadenas de la misma forma que se puede hacer con otro tipo de datos secuenciales.\n",
        "\n",
        "Permite también utilizar índices negativos para contar desde el final de la cadena hacia el principio."
      ]
    },
    {
      "cell_type": "markdown",
      "metadata": {
        "id": "EDPaN_X6-ltO"
      },
      "source": [
        "| M | o | n | u | m | e | n | t | a | l | ! |\n",
        "|---|---|---|---|---|---|---|---|---|---|---|\n",
        "| 0 | 1 | 2 | 3 | 4 | 5 | 6 | 7 | 8 | 9 |10 |\n",
        "|-11|-10|-9|-8|-7|-6|-5|-4|-3|-2|-1 |\n"
      ]
    },
    {
      "cell_type": "markdown",
      "metadata": {
        "id": "5N1keu6I-ltO"
      },
      "source": [
        "#### Aceso a cadenas de caracteres"
      ]
    },
    {
      "cell_type": "markdown",
      "metadata": {
        "id": "8fVmwevD-ltO"
      },
      "source": [
        "##### Índices: [índice]"
      ]
    },
    {
      "cell_type": "code",
      "execution_count": null,
      "metadata": {
        "id": "PlD8eHBS-ltO",
        "outputId": "a8030f84-820b-4b81-f0e7-123e301a4f43",
        "colab": {
          "base_uri": "https://localhost:8080/"
        }
      },
      "outputs": [
        {
          "output_type": "stream",
          "name": "stdout",
          "text": [
            "n\n",
            "!\n",
            "M\n"
          ]
        }
      ],
      "source": [
        "cadena=\"Monumental!\"\n",
        "print(cadena[2])\n",
        "print(cadena[-1])\n",
        "print(cadena[-11])\n"
      ]
    },
    {
      "cell_type": "markdown",
      "metadata": {
        "id": "ubgiY8HN-ltO"
      },
      "source": [
        "##### Slicing: cadena[inicio:fin]\n",
        "- índice de inicio es inclusivo y de fin es exclusivo\n"
      ]
    },
    {
      "cell_type": "code",
      "execution_count": 2,
      "metadata": {
        "id": "QxXbQVHT-ltO",
        "colab": {
          "base_uri": "https://localhost:8080/"
        },
        "outputId": "36377253-74d3-4c06-c7ed-abe59c30035d"
      },
      "outputs": [
        {
          "output_type": "stream",
          "name": "stdout",
          "text": [
            "Ma\n"
          ]
        }
      ],
      "source": [
        "# Comienzar desde el índice 0 y va hasta el índice 2 (exclusivo)\n",
        "cadena1=\"Maracas\"\n",
        "print(cadena1[0:2])"
      ]
    },
    {
      "cell_type": "code",
      "source": [
        "# Comienzar desde el índice 2 y va hasta el final de la cadena\n",
        "cadena1=\"Maracas\"\n",
        "print(cadena1[2:])"
      ],
      "metadata": {
        "id": "Rv33dMcXa1h3",
        "colab": {
          "base_uri": "https://localhost:8080/"
        },
        "outputId": "5d1a1e38-3c05-44dd-b3c9-3f31f6c34299"
      },
      "execution_count": 4,
      "outputs": [
        {
          "output_type": "stream",
          "name": "stdout",
          "text": [
            "racas\n"
          ]
        }
      ]
    },
    {
      "cell_type": "code",
      "source": [
        "# Comienzar desde el inicio de la cadena y va hasta el índice -2\n",
        "\n",
        "cadena1=\"Maracas\"\n",
        "print(cadena1[0:-2])\n"
      ],
      "metadata": {
        "id": "VAz7GBZea1b1",
        "colab": {
          "base_uri": "https://localhost:8080/"
        },
        "outputId": "eaafd4bb-b976-4540-a446-fec67089d1b3"
      },
      "execution_count": 5,
      "outputs": [
        {
          "output_type": "stream",
          "name": "stdout",
          "text": [
            "Marac\n"
          ]
        }
      ]
    },
    {
      "cell_type": "code",
      "source": [
        "# Comienzar desde el índice -2 y va hasta el final de la cadena\n",
        "\n",
        "\n",
        "cadena1=\"Maracas\"\n",
        "print(cadena1[-2:])"
      ],
      "metadata": {
        "id": "ab2G89Wha1Vl"
      },
      "execution_count": null,
      "outputs": []
    },
    {
      "cell_type": "code",
      "source": [
        "# Extraer toda la cadena\n",
        "\n",
        "\n",
        "cadena1=\"Maracas\"\n",
        "print(cadena1)"
      ],
      "metadata": {
        "id": "GaOWYicNa1Pb"
      },
      "execution_count": null,
      "outputs": []
    },
    {
      "cell_type": "code",
      "source": [
        "# Invierter la cadena\n",
        "cadena1=\"Maracas\"\n",
        "print(cadena1[::-1])"
      ],
      "metadata": {
        "id": "IDBKJ_d9a1I2",
        "colab": {
          "base_uri": "https://localhost:8080/"
        },
        "outputId": "76cb0166-17ae-4f49-ed12-8cec5b2efe03"
      },
      "execution_count": 7,
      "outputs": [
        {
          "output_type": "stream",
          "name": "stdout",
          "text": [
            "sacaraM\n"
          ]
        }
      ]
    },
    {
      "cell_type": "markdown",
      "metadata": {
        "id": "UvU7HGjs-ltO"
      },
      "source": [
        "##### Slicing 2: cadena[inicio:fin:paso]"
      ]
    },
    {
      "cell_type": "code",
      "execution_count": 9,
      "metadata": {
        "id": "LTuH2QJQ-ltO",
        "colab": {
          "base_uri": "https://localhost:8080/"
        },
        "outputId": "e545a73b-fbcb-4191-ee7e-7b75e6943dfe"
      },
      "outputs": [
        {
          "output_type": "stream",
          "name": "stdout",
          "text": [
            "Mrcs5\n"
          ]
        }
      ],
      "source": [
        "#  Extraer caracteres comenzando desde el índice 0 hasta el índice 10, saltando un carácter en cada paso (paso 2).\n",
        "cadena2 = \"Maracas1569\"\n",
        "print(cadena2[0:10:2])"
      ]
    },
    {
      "cell_type": "markdown",
      "source": [
        "cadena2[0:10:2]:\n",
        "\n",
        "0: Inicio en el índice 0.\n",
        "\n",
        "10: Va hasta el índice 10 (exclusivo).\n",
        "\n",
        "2: Salta un carácter en cada paso.\n",
        "\n",
        "Resultado: \"Mras5\"."
      ],
      "metadata": {
        "id": "DsVL7neN2H-f"
      }
    },
    {
      "cell_type": "code",
      "source": [
        "# Utilizar el slicing para imprimir la cadena completa\n",
        "cadena2 = \"Maracas1569\"\n",
        "print(cadena2[::])"
      ],
      "metadata": {
        "id": "a72danDhbHsr",
        "colab": {
          "base_uri": "https://localhost:8080/"
        },
        "outputId": "5cfcdbc3-ab94-4a93-af10-823feab12c4e"
      },
      "execution_count": 11,
      "outputs": [
        {
          "output_type": "stream",
          "name": "stdout",
          "text": [
            "Maracas1569\n"
          ]
        }
      ]
    },
    {
      "cell_type": "code",
      "source": [
        "# Imprimir los últimos cuatro caracteres de la cadena\n",
        "cadena2 = \"Maracas1569\"\n",
        "print(cadena2[7:11])\n",
        "print(cadena2[-4:])"
      ],
      "metadata": {
        "id": "Y5GVsmUubHl_",
        "colab": {
          "base_uri": "https://localhost:8080/"
        },
        "outputId": "ef2ad5b6-a18a-4d81-98fb-d6e6120a5bed"
      },
      "execution_count": 16,
      "outputs": [
        {
          "output_type": "stream",
          "name": "stdout",
          "text": [
            "1569\n",
            "1569\n"
          ]
        }
      ]
    },
    {
      "cell_type": "code",
      "source": [
        "#  Imprimir una subcadena con índices negativos\n",
        "\n",
        "cadena2 = \"Maracas1569\"\n",
        "print(cadena2[-7:-3])  # Resultado: \"cas1\"\n"
      ],
      "metadata": {
        "id": "ZH0ke7XnbHdJ"
      },
      "execution_count": null,
      "outputs": []
    },
    {
      "cell_type": "markdown",
      "source": [
        "na2[-7:-3]:\n",
        "-7: Comienza desde el séptimo carácter desde el final (en este caso, la letra \"c\").\n",
        "\n",
        "-3: Termina en el tercer carácter desde el final (antes de \"6\").\n"
      ],
      "metadata": {
        "id": "T6G6Ztsj3Lxo"
      }
    },
    {
      "cell_type": "markdown",
      "metadata": {
        "id": "4u0r9hGG-ltP"
      },
      "source": [
        "#### Métodos aplicables a Strings\n",
        "\n",
        "| Método                  | Descripción                                                        | Ejemplo de Implementación                                  |\n",
        "|-------------------------|--------------------------------------------------------------------|------------------------------------------------------------|\n",
        "| `capitalize()`          | Convierte el primer carácter de la cadena a mayúscula             | `'hola mundo'.capitalize()` -> `'Hola mundo'`              |\n",
        "| `casefold()`            | Convierte la cadena a minúsculas, adecuado para comparaciones     | `'Hola Mundo'.casefold()` -> `'hola mundo'`               |\n",
        "| `center(width)`         | Centra la cadena dentro de una cadena de ancho especificado       | `'hola'.center(10)` -> `'   hola   '`                     |\n",
        "| `count(substring)`      | Cuenta el número de ocurrencias de una subcadena en la cadena     | `'hola hola hola'.count('hola')` -> `3`                    |\n",
        "| `endswith(suffix)`      | Comprueba si la cadena termina con el sufijo especificado         | `'hola mundo'.endswith('mundo')` -> `True`                 |\n",
        "| `find(substring)`       | Encuentra la primera ocurrencia de una subcadena en la cadena     | `'hola mundo'.find('mundo')` -> `5`                        |\n",
        "| `index(substring)`      | Encuentra la primera ocurrencia de una subcadena en la cadena     | `'hola mundo'.index('mundo')` -> `5`                       |\n",
        "| `isalnum()`             | Comprueba si todos los caracteres de la cadena son alfanuméricos  | `'Hola123'.isalnum()` -> `True`                            |\n",
        "| `isalpha()`             | Comprueba si todos los caracteres de la cadena son letras         | `'Hola'.isalpha()` -> `True`                               |\n",
        "| `isdigit()`             | Comprueba si todos los caracteres de la cadena son dígitos        | `'123'.isdigit()` -> `True`                                |\n",
        "| `islower()`             | Comprueba si todos los caracteres de la cadena están en minúsculas| `'hola mundo'.islower()` -> `True`                         |\n",
        "| `isspace()`             | Comprueba si todos los caracteres de la cadena son espacios      | `' '.isspace()` -> `True`                                 |\n",
        "| `istitle()`             | Comprueba si la cadena sigue el formato de título                 | `'Hola Mundo'.istitle()` -> `True`                         |\n",
        "| `isupper()`             | Comprueba si todos los caracteres de la cadena están en mayúsculas| `'HOLA MUNDO'.isupper()` -> `True`                         |\n",
        "| `join(iterable)`        | Une los elementos del iterable con la cadena como separador       | `','.join(['a', 'b', 'c'])` -> `'a,b,c'`                  |\n",
        "| `ljust(width)`          | Justifica la cadena a la izquierda en una cadena de ancho fijo    | `'hola'.ljust(10)` -> `'hola      '`                      |\n",
        "| `lower()`               | Convierte la cadena a minúsculas                                  | `'HOLA MUNDO'.lower()` -> `'hola mundo'`                   |\n",
        "| `lstrip()`              | Elimina los espacios en blanco al principio de la cadena          | `'   hola'.lstrip()` -> `'hola'`                          |\n",
        "| `partition(separator)`  | Divide la cadena en tres partes usando el separador               | `'hola-mundo'.partition('-')` -> `('hola', '-', 'mundo')` |\n",
        "| `replace(old, new)`     | Reemplaza todas las ocurrencias de una subcadena con otra         | `'hola mundo'.replace('mundo', 'Python')` -> `'hola Python'`|\n",
        "| `rfind(substring)`      | Encuentra la última ocurrencia de una subcadena en la cadena      | `'hola hola hola'.rfind('hola')` -> `10`                  |\n",
        "| `rindex(substring)`     | Encuentra la última ocurrencia de una subcadena en la cadena      | `'hola hola hola'.rindex('hola')` -> `10`                 |\n",
        "| `rjust(width)`          | Justifica la cadena a la derecha en una cadena de ancho fijo     | `'hola'.rjust(10)` -> `'      hola'`                      |\n",
        "| `rpartition(separator)` | Divide la cadena en tres partes usando el separador, empezando por la derecha | `'hola-mundo'.rpartition('-')` -> `('hola', '-', 'mundo')` |\n",
        "| `rsplit(separator)`     | Divide la cadena en una lista de sub\n"
      ]
    },
    {
      "cell_type": "code",
      "source": [
        "texto = \"El análisis de datos es fundamental en la ciencia de datos!\""
      ],
      "metadata": {
        "id": "_20LbBSQdJ6u"
      },
      "execution_count": null,
      "outputs": []
    },
    {
      "cell_type": "code",
      "execution_count": 17,
      "metadata": {
        "id": "HwiRGyF7-ltP",
        "colab": {
          "base_uri": "https://localhost:8080/"
        },
        "outputId": "d5e50a55-61c9-4194-cb3b-3b32b6abe115"
      },
      "outputs": [
        {
          "output_type": "stream",
          "name": "stdout",
          "text": [
            "MARACAS1569\n"
          ]
        }
      ],
      "source": [
        "#upper(): Convierte todos los caracteres del string a mayúsculas.\n",
        "cadena2 = \"Maracas1569\"\n",
        "print(cadena2.upper())  # Resultado: \"MARACAS1569\""
      ]
    },
    {
      "cell_type": "code",
      "source": [
        "#lower(): Convierte todos los caracteres del string a minúsculas.\n",
        "cadena2 = \"Maracas1569\"\n",
        "print(cadena2.lower())"
      ],
      "metadata": {
        "id": "rBtq-PbF2fe1",
        "colab": {
          "base_uri": "https://localhost:8080/"
        },
        "outputId": "06e8db50-f548-4d2a-b180-a203807abc70"
      },
      "execution_count": 18,
      "outputs": [
        {
          "output_type": "stream",
          "name": "stdout",
          "text": [
            "maracas1569\n"
          ]
        }
      ]
    },
    {
      "cell_type": "code",
      "source": [
        "#capitalize(): Convierte el primer carácter del string a mayúscula y el resto a minúsculas.\n",
        "cadena2 = \"maracas1569\"\n",
        "print(cadena2.capitalize())"
      ],
      "metadata": {
        "id": "sKpzSQOb2faB",
        "colab": {
          "base_uri": "https://localhost:8080/"
        },
        "outputId": "2ba38427-e25e-4039-aee9-71d7d16ca248"
      },
      "execution_count": 20,
      "outputs": [
        {
          "output_type": "stream",
          "name": "stdout",
          "text": [
            "Maracas1569\n"
          ]
        }
      ]
    },
    {
      "cell_type": "code",
      "source": [
        "#title(): Convierte la primera letra de cada palabra del string a mayúscula.\n",
        "cadena2 = \"hola caracola de leon\"\n",
        "print(cadena2.title())"
      ],
      "metadata": {
        "id": "VRyYunva2fVk",
        "colab": {
          "base_uri": "https://localhost:8080/"
        },
        "outputId": "5be91b7d-8d34-4c44-f70d-dc193ce8cbb5"
      },
      "execution_count": 21,
      "outputs": [
        {
          "output_type": "stream",
          "name": "stdout",
          "text": [
            "Hola Caracola De Leon\n"
          ]
        }
      ]
    },
    {
      "cell_type": "code",
      "source": [
        "#strip(): Elimina los espacios en blanco al principio y al final del string.\n",
        "cadena2 = \"lo ponemos todo junto\"\n",
        "print(cadena2.strip())"
      ],
      "metadata": {
        "id": "U6WfM2lX2fRH",
        "colab": {
          "base_uri": "https://localhost:8080/"
        },
        "outputId": "2b606db3-cddc-496a-be7a-870c665e4b62"
      },
      "execution_count": 22,
      "outputs": [
        {
          "output_type": "stream",
          "name": "stdout",
          "text": [
            "lo ponemos todo junto\n"
          ]
        }
      ]
    },
    {
      "cell_type": "code",
      "source": [
        "#replace(): Reemplaza una subcadena por otra en el string\n",
        "cadena2 = \"Maracas1569\"\n",
        "print(cadena2.replace(\"Maracas\", \"Tacos\"))"
      ],
      "metadata": {
        "id": "lO-JlcLH2fLf",
        "colab": {
          "base_uri": "https://localhost:8080/"
        },
        "outputId": "9df7ec84-1e03-47c4-f68a-8a6427a89c34"
      },
      "execution_count": 24,
      "outputs": [
        {
          "output_type": "stream",
          "name": "stdout",
          "text": [
            "Tacos1569\n"
          ]
        }
      ]
    },
    {
      "cell_type": "code",
      "source": [
        "#split(): Divide el string en una lista de subcadenas usando un delimitador.\n",
        "cadena2 = \"Maracas1569\"\n",
        "print(cadena2.split())"
      ],
      "metadata": {
        "id": "-1jh0NgX2fFb",
        "colab": {
          "base_uri": "https://localhost:8080/"
        },
        "outputId": "d293d438-0e32-43ed-8ece-3eab5c42fdb5"
      },
      "execution_count": 25,
      "outputs": [
        {
          "output_type": "stream",
          "name": "stdout",
          "text": [
            "['Maracas1569']\n"
          ]
        }
      ]
    },
    {
      "cell_type": "code",
      "source": [
        "#join(): Une los elementos de una lista en un solo string, usando el string original como separador.\n",
        "lista = [\"M\", \"a\", \"r\", \"a\", \"c\", \"a\", \"s\", \"1\", \"5\", \"6\", \"9\"]\n",
        "print(\"\".join(lista))  # Resultado: \"Maracas1569\""
      ],
      "metadata": {
        "id": "DK7TiGKt2e-w",
        "colab": {
          "base_uri": "https://localhost:8080/"
        },
        "outputId": "ef95bab4-fd11-4b5f-e50d-be3b31f4b40c"
      },
      "execution_count": 27,
      "outputs": [
        {
          "output_type": "stream",
          "name": "stdout",
          "text": [
            "Maracas1569\n"
          ]
        }
      ]
    },
    {
      "cell_type": "code",
      "source": [
        "# \"sumar\" strings\n",
        "cadena1 = \"Maracas\"\n",
        "cadena2 = \"1569\"\n",
        "resultado = cadena1 + cadena2\n",
        "print(resultado)  # Resultado: \"Maracas1569\""
      ],
      "metadata": {
        "id": "fQjJ0pQWCEjn"
      },
      "execution_count": null,
      "outputs": []
    },
    {
      "cell_type": "code",
      "source": [
        "# Contar cuántas veces aparece la palabra \"datos\"\n",
        "cadena3 = \"Los datos de las cadenas son datos\"\n",
        "resultado = cadena3.count(\"datos\")\n",
        "print(resultado)  # Resultado: 2"
      ],
      "metadata": {
        "id": "cOfsYjKLCJ7H"
      },
      "execution_count": null,
      "outputs": []
    },
    {
      "cell_type": "markdown",
      "metadata": {
        "id": "HYiFQptY-ltO"
      },
      "source": [
        "#### Otras formas de asignación de variables String"
      ]
    },
    {
      "cell_type": "code",
      "execution_count": null,
      "metadata": {
        "id": "zemw57Ry-ltO",
        "outputId": "136298b4-2383-438d-9d22-67c739b313d8",
        "colab": {
          "base_uri": "https://localhost:8080/"
        }
      },
      "outputs": [
        {
          "output_type": "stream",
          "name": "stdout",
          "text": [
            "Coche\n",
            "Bicicleta\n",
            "¡Hola mundo!\n",
            "Yo soy un texto multilínea y me voy por todos los lados..\n",
            "arriba, abajo, donde sea..\n",
            "\n"
          ]
        }
      ],
      "source": [
        "#Declaraciones de string ## Comentarios\n",
        "\n",
        "x=\"Coche\"\n",
        "y='Bicicleta'\n",
        "\n",
        "z=\"\"\"¡Hola mundo!\n",
        "Yo soy un texto multilínea y me voy por todos los lados..\n",
        "arriba, abajo, donde sea..\n",
        "\"\"\"\n",
        "\n",
        "print(x)\n",
        "print(y)\n",
        "print(z)"
      ]
    },
    {
      "cell_type": "code",
      "execution_count": null,
      "metadata": {
        "id": "qKmKxt-W-ltP",
        "outputId": "ace92b88-6ba4-4bad-c2e4-cc08243c823f",
        "colab": {
          "base_uri": "https://localhost:8080/",
          "height": 36
        }
      },
      "outputs": [
        {
          "output_type": "execute_result",
          "data": {
            "text/plain": [
              "'¡Hola mundo!\\nYo soy un texto multilínea y me voy por todos los lados..\\narriba, abajo, donde sea..\\n'"
            ],
            "application/vnd.google.colaboratory.intrinsic+json": {
              "type": "string"
            }
          },
          "metadata": {},
          "execution_count": 181
        }
      ],
      "source": [
        "#Diferencia\n",
        "z"
      ]
    },
    {
      "cell_type": "markdown",
      "metadata": {
        "id": "1KOBjGLuXmYH"
      },
      "source": [
        "#### f-string\n",
        "Recurso que permite formatear cadenas com expresiones e variables de diversos tipos."
      ]
    },
    {
      "cell_type": "code",
      "execution_count": null,
      "metadata": {
        "id": "Ay47v0bw-ltP",
        "outputId": "da209931-42af-4efe-d100-719b11632f46",
        "colab": {
          "base_uri": "https://localhost:8080/"
        }
      },
      "outputs": [
        {
          "output_type": "stream",
          "name": "stdout",
          "text": [
            "Hola, me llamo Juan y tengo 30 años.\n"
          ]
        }
      ],
      "source": [
        "nombre = \"Juan\"\n",
        "edad = 30\n",
        "f_string = f\"Hola, me llamo {nombre} y tengo {edad} años.\"\n",
        "print(f_string)\n"
      ]
    },
    {
      "cell_type": "code",
      "execution_count": null,
      "metadata": {
        "id": "ZMoYBCc--ltP"
      },
      "outputs": [],
      "source": [
        "#print() 1:\n",
        "nombre=\"Sandra\"\n",
        "edad=20\n",
        "print(\"Hola,\", nombre, \"tu tienes\", edad, \"años.\")"
      ]
    },
    {
      "cell_type": "code",
      "execution_count": null,
      "metadata": {
        "id": "KBdUPSbX-ltP"
      },
      "outputs": [],
      "source": [
        "#print 2\n",
        "nombre=\"Carlos\"\n",
        "edad=30\n",
        "print(\"Hola {} tu tienes {} años\".format(nombre,edad))"
      ]
    },
    {
      "cell_type": "code",
      "source": [
        "#print 4\n",
        "nombre=\"Carlos\"\n",
        "edad=30\n",
        "print(\"Hola \",nombre, \"tu tienes \", edad)"
      ],
      "metadata": {
        "id": "SFDD7-rvCgoe"
      },
      "execution_count": null,
      "outputs": []
    },
    {
      "cell_type": "markdown",
      "metadata": {
        "id": "6sJVK7Xm-ltP"
      },
      "source": [
        "### Identificación y conversión de tipos\n",
        "\n",
        "En Python, puedes identificar y convertir tipos primitivos utilizando funciones integradas como **type()** para identificar el tipo de dato y funciones como int(), float(), bool(), str(), entre otras, para convertir entre tipos.\n"
      ]
    },
    {
      "cell_type": "code",
      "execution_count": null,
      "metadata": {
        "id": "eJZApwnb-ltP",
        "outputId": "bf356d23-d3f3-49f0-f70c-1dc9daf9ff86",
        "colab": {
          "base_uri": "https://localhost:8080/"
        }
      },
      "outputs": [
        {
          "output_type": "stream",
          "name": "stdout",
          "text": [
            "Tipo de dato de 'numero': <class 'int'>\n",
            "Tipo de dato de 'cadena': <class 'str'>\n",
            "Tipo de dato de 'flotante': <class 'float'>\n"
          ]
        }
      ],
      "source": [
        "# Identificar el tipo de dato\n",
        "numero = 5\n",
        "cadena = \"Hola\"\n",
        "flotante = 3.14\n",
        "\n",
        "\n"
      ]
    },
    {
      "cell_type": "code",
      "source": [
        "print(\"Tipo de dato de 'numero':\", type(numero))\n",
        "print(\"Tipo de dato de 'cadena':\", type(cadena))\n",
        "print(\"Tipo de dato de 'flotante':\", type(flotante))"
      ],
      "metadata": {
        "id": "nf1OgiSEC5oE"
      },
      "execution_count": null,
      "outputs": []
    },
    {
      "cell_type": "code",
      "source": [
        "# Conversión entre tipos de datos\n",
        "texto = \"10\"\n",
        "numero_convertido = int(texto)\n",
        "flotante_convertido = float(texto)\n",
        "booleano = bool(texto)\n",
        "\n",
        "\n"
      ],
      "metadata": {
        "colab": {
          "base_uri": "https://localhost:8080/"
        },
        "id": "8cdiNx183ZMn",
        "outputId": "b8690b6e-7cdf-4a90-e1da-8eafe6a56906"
      },
      "execution_count": null,
      "outputs": [
        {
          "output_type": "stream",
          "name": "stdout",
          "text": [
            "Tipo de dato de 'numero_convertido': <class 'int'>\n",
            "Tipo de dato de 'flotante_convertido': <class 'float'>\n",
            "Tipo de dato de 'booleano': <class 'bool'>\n"
          ]
        }
      ]
    },
    {
      "cell_type": "code",
      "source": [
        "print(\"Tipo de dato de 'numero_convertido':\", type(numero_convertido))\n",
        "print(\"Tipo de dato de 'flotante_convertido':\", type(flotante_convertido))\n",
        "print(\"Tipo de dato de 'booleano':\", type(booleano))"
      ],
      "metadata": {
        "id": "gAf5-4q_C7Fm"
      },
      "execution_count": null,
      "outputs": []
    },
    {
      "cell_type": "code",
      "source": [],
      "metadata": {
        "id": "q3vMoMRl_bnc"
      },
      "execution_count": null,
      "outputs": []
    },
    {
      "cell_type": "code",
      "source": [],
      "metadata": {
        "id": "lv4R_9KLCz_V"
      },
      "execution_count": null,
      "outputs": []
    },
    {
      "cell_type": "markdown",
      "metadata": {
        "id": "MTGJjlTG-ltQ"
      },
      "source": [
        "## Funciones (Built-in) y métodos\n",
        "\n",
        "**Funciones Built-in:**\n",
        "Funciones que vienen predefinidas en Python y están disponibles para su uso en cualquier momento sin necesidad de importar módulos adicionales. Estas funciones proporcionan funcionalidades básicas esenciales para trabajar con tipos de datos, realizar operaciones matemáticas, manipular secuencias, entre otras tareas. Algunos ejemplos de funciones integradas incluyen print(), len(), sum(), range(), max(), min(), abs(), entre otras.\n",
        "\n",
        "**Principales Funciones Built-in en Python**\n",
        "\n",
        "| Función      | Descripción                                                         |\n",
        "|--------------|---------------------------------------------------------------------|\n",
        "| `print()`    | Imprime un objeto en la salida estándar.                           |\n",
        "| `len()`      | Devuelve la longitud de un objeto (por ejemplo, una lista o cadena).|\n",
        "| `input()`    | Lee una entrada desde la entrada estándar (teclado) y la devuelve. |\n",
        "| `sum()`      | Devuelve la suma de todos los elementos en un iterable.             |\n",
        "| `range()`    | Genera una secuencia de números entre un inicio y un fin.           |\n",
        "| `max()`      | Devuelve el valor máximo en un iterable.                            |\n",
        "| `min()`      | Devuelve el valor mínimo en un iterable.                            |\n",
        "| `abs()`      | Devuelve el valor absoluto de un número.                            |\n",
        "| `sorted()`   | Devuelve una lista ordenada a partir de un iterable.                |\n",
        "| `str()`      | Convierte un objeto en una cadena.                                  |\n",
        "| `int()`      | Convierte una cadena o número en un entero.                         |\n",
        "| `float()`    | Convierte una cadena o número en un número de punto flotante.       |\n",
        "| `list()`     | Crea una lista a partir de un iterable.                             |\n",
        "| `tuple()`    | Crea una tupla a partir de un iterable.                             |\n",
        "| `dict()`     | Crea un diccionario a partir de pares clave-valor.                  |\n",
        "| `set()`      | Crea un conjunto a partir de un iterable.                           |\n"
      ]
    },
    {
      "cell_type": "markdown",
      "metadata": {
        "id": "6lLiu24U-ltQ"
      },
      "source": [
        "**Métodos:**\n",
        "Funciones asociadas a objetos específicos en Python. Cada tipo de dato en Python (como listas, cadenas, diccionarios, etc.) tiene sus propios métodos incorporados que se utilizan para realizar operaciones específicas en esos objetos. Los métodos se llaman utilizando la notación de punto (objeto.metodo()) y actúan sobre el objeto al que están asociados. Por ejemplo, los métodos de una lista, como append(), insert(), remove(), sort(), son específicos para trabajar con listas.\n",
        "\n",
        "**Diferencias entre funciones y metodos:**\n",
        "- Asociación con Objetos: Las funciones integradas son independientes y se pueden llamar directamente, mientras que los métodos están asociados a objetos específicos y se llaman a través de la instancia del objeto.\n",
        "\n",
        "- Operaciones Específicas:Las funciones integradas proporcionan funcionalidades básicas y genéricas que se aplican a una amplia variedad de objetos, mientras que los métodos son específicos para un tipo de objeto y realizan operaciones relacionadas con ese tipo de objeto."
      ]
    },
    {
      "cell_type": "code",
      "source": [
        "#input()\n",
        "\n",
        "x=input(\"Buenos dias! Dime un número de 0 a 100: \")\n",
        "print(x)\n",
        "print(type(x))\n",
        "\n"
      ],
      "metadata": {
        "colab": {
          "base_uri": "https://localhost:8080/"
        },
        "id": "yn0VxiYpd09B",
        "outputId": "f982f127-c7f4-4300-ca21-ef6a143430e9"
      },
      "execution_count": null,
      "outputs": [
        {
          "output_type": "stream",
          "name": "stdout",
          "text": [
            "Buenos dias! Dime un número de 0 a 100: 90\n",
            "90\n",
            "<class 'str'>\n"
          ]
        }
      ]
    },
    {
      "cell_type": "markdown",
      "metadata": {
        "id": "vlhIEj-zq2ZD"
      },
      "source": [
        "## Tipos de dados Estruturados\n",
        "\n",
        "Existen 4 tipos de tipos de datos compuestos o de colección:\n",
        "- **Lista (List)**: colección de datos ordenada y mutable. Permite miembros duplicados y de diferentes tipos.\n",
        "- **Tupla (Tuple)**: similar a una lista, pero es inmutable.\n",
        "- **Conjunto (Set)**: colección de datos no ordenada y mutable. No permite miembros duplicados. No tiene indices.\n",
        "- **Diccionario (Dict)**: colección de datos ordenada, modificable e indexada. No permite miembros duplicados\n",
        "\n"
      ]
    },
    {
      "cell_type": "markdown",
      "metadata": {
        "id": "KnMEb8sLq2ZD"
      },
      "source": [
        "| Característica         | Lista                                    | Tupla                                           | Conjunto                                        | Diccionario                                     |\n",
        "|------------------------|------------------------------------------|-------------------------------------------------|-------------------------------------------------|-------------------------------------------------|\n",
        "| Mutabilidad            | Mutables: Puede ser alterada             | Inmutables: No puede ser alterada               | Mutables: Puede ser alterada                    | Mutables: Puede ser alterada                    |\n",
        "| Ordenación             | Ordenada: Mantiene el orden de los elementos | Ordenada: Mantiene el orden de los elementos | No ordenada: No mantiene un orden específico    | No ordenada: No mantiene un orden específico    |\n",
        "| Sintaxis de Creación   | `[elemento1, elemento2, ...]`            | `(elemento1, elemento2, ...)`                   | `{elemento1, elemento2, ...}`                   | `{clave1: valor1, clave2: valor2, ...}`         |\n",
        "| Constructor            | `lista = [1, 2, 3]`                      | `tupla = (1, 2, 3)`                             | `conjunto = {1, 2, 3}`                          | `diccionario = {'a': 1, 'b': 2, 'c': 3}`        |\n",
        "|                        | `lista = list([1, 2, 3])`                | `tupla = tuple((1, 2, 3))`                      | `conjunto = set([1, 2, 3])`                     | `diccionario = dict(a=1,b=2,c=3)`  |\n",
        "| Acceso a elementos     | Acesso por índice: lista[indice]         | Acceso por índice: tupla[indice]                | No aplicable                                    | Acceso por clave: diccionario[chave]            |\n",
        "| Mutabilidad de Elementos | Elementos pueden ser alterados          | Elementos no pueden ser alterados               | No aplicable                                    | Valor asociado a una clave puede ser alterado   |\n",
        "| Soporte a Duplicados   | Permite duplicados                       | Permite duplicados                              | No permite duplicados                          | No permite claves duplicadas                    |\n",
        "| Utilización Común      | Cuando es necesario alterar los elementos o mantener una colección ordenada | Cuando es necesario mantener una colección ordenada, pero inmutable | Cuando es necesario garantizar la unicidad de los elementos | Cuando es necesario asociar valores a claves únicas |\n",
        "| Ejemplos               | `lista = [1, 2, 3, 3]`                  | `tupla = (1, 2, 3, 3)`                         | `conjunto = {1, 2, 3}`                          | `diccionario = {'a': 1, 'b': 2, 'c': 3}`        |\n",
        "| Ejemplos de Métodos/Operaciones | `append()`, `insert()`, `remove()`, `pop()`, `index()`, `count()`, `sort()`, `reverse()` | No tiene métodos de modificación, solo métodos de acceso como `index()` y `count()` | `add()`, `remove()`, `discard()`, `clear()`, `union()`, `intersection()`, `difference()`, `issubset()`, `issuperset()` | `keys()`, `values()`, `items()`, `get()`, `pop()`, `popitem()`, `update()`, `clear()` |\n"
      ]
    },
    {
      "cell_type": "markdown",
      "metadata": {
        "id": "NvMcJT1Msc30"
      },
      "source": [
        "### Listas"
      ]
    },
    {
      "cell_type": "markdown",
      "metadata": {
        "id": "Tb5eVw4F-ltQ"
      },
      "source": [
        "#### Métodos\n",
        "\n",
        "| Método                                | Descripción                                                                                   |\n",
        "|---------------------------------------|-----------------------------------------------------------------------------------------------|\n",
        "| `lista[indice] = valor`            | Modifica el valor de un elemento en la posición especificada.                                 |\n",
        "| `lista.append(valor)`              | Agrega un elemento al final de la lista.                                                     |\n",
        "| `lista.extend(iterable)`           | Agrega los elementos de un iterable al final de la lista.                                     |\n",
        "| `lista.insert(indice, valor)`      | Inserta un elemento en la posición especificada.                                              |\n",
        "| `lista.remove(valor)`              | Elimina la primera ocurrencia del valor especificado.                                          |\n",
        "| `lista.pop([indice])`              | Elimina y devuelve el último elemento de la lista, o un elemento en la posición especificada. |\n",
        "| `del lista[indice]`                | Elimina un elemento en la posición especificada.                                               |\n",
        "| `lista.index(valor)`               | Devuelve el índice de la primera ocurrencia del valor especificado.                            |\n",
        "| `lista.count(valor)`               | Devuelve el número de veces que el valor especificado aparece en la lista.                     |\n",
        "| `lista.sort()`                     | Ordena los elementos de la lista en su lugar.                                                 |\n",
        "| `lista.reverse()`                  | Invierte el orden de los elementos en la lista.                                               |\n",
        "| `lista.clear()`                    | Elimina todos los elementos de la lista.                                                       |\n",
        "| `lista.copy()`                     | Devuelve una copia superficial de la lista.                                                   |\n"
      ]
    },
    {
      "cell_type": "markdown",
      "metadata": {
        "id": "oSMtwWwf-ltQ"
      },
      "source": [
        "#### Creación"
      ]
    },
    {
      "cell_type": "code",
      "execution_count": null,
      "metadata": {
        "id": "H1Ism8Dz-ltQ"
      },
      "outputs": [],
      "source": [
        "#Creación\n",
        "lista = [1, 2, 3, 4, 5]\n"
      ]
    },
    {
      "cell_type": "code",
      "source": [
        "#Creación - list([])\n",
        "lista_2 = list([1,2,3,4])\n",
        "\n"
      ],
      "metadata": {
        "id": "neW8AapdiExG"
      },
      "execution_count": null,
      "outputs": []
    },
    {
      "cell_type": "code",
      "source": [
        "#Creación - list(()) II\n",
        "lista_3 = list((1,2,3))\n"
      ],
      "metadata": {
        "id": "UE9YvK4BiEkF"
      },
      "execution_count": null,
      "outputs": []
    },
    {
      "cell_type": "markdown",
      "metadata": {
        "id": "dtaCWyAA-ltQ"
      },
      "source": [
        "#### Consulta/Seleccion"
      ]
    },
    {
      "cell_type": "code",
      "execution_count": 30,
      "metadata": {
        "id": "opKap4T1-ltQ",
        "colab": {
          "base_uri": "https://localhost:8080/"
        },
        "outputId": "2c87d424-f9b8-4e4c-d58c-36a80ac2e3ea"
      },
      "outputs": [
        {
          "output_type": "stream",
          "name": "stdout",
          "text": [
            "1\n"
          ]
        }
      ],
      "source": [
        " # Accede al primer elemento\n",
        "lista = [1, 2, 3, 4, 5]\n",
        "print(lista[0])\n"
      ]
    },
    {
      "cell_type": "code",
      "source": [
        "# Accede al último elemento\n",
        "lista = [1, 2, 3, 4, 5]\n",
        "print(lista[4])"
      ],
      "metadata": {
        "id": "5asFX0kIh4wI",
        "colab": {
          "base_uri": "https://localhost:8080/"
        },
        "outputId": "4a033bc4-40db-4fe4-9657-5f11d5acd32e"
      },
      "execution_count": 34,
      "outputs": [
        {
          "output_type": "stream",
          "name": "stdout",
          "text": [
            "5\n"
          ]
        }
      ]
    },
    {
      "cell_type": "code",
      "source": [
        "#seleccion de multiples elementos\n",
        "lista = [1, 2, 3, 4, 5]\n",
        "print(lista[0:3])"
      ],
      "metadata": {
        "id": "V5r4UTNWh4iy",
        "colab": {
          "base_uri": "https://localhost:8080/"
        },
        "outputId": "4f469d77-24c9-4c6d-ea70-cbdf6a4c8b97"
      },
      "execution_count": 33,
      "outputs": [
        {
          "output_type": "stream",
          "name": "stdout",
          "text": [
            "[1, 2, 3]\n"
          ]
        }
      ]
    },
    {
      "cell_type": "code",
      "source": [
        "# Index: Obtener el índice de un elemento específico en la lista\n",
        "lista = [1, 2, 3, 4, 5]\n",
        "print(lista.index(3))"
      ],
      "metadata": {
        "id": "OBgOcnZkh4M1",
        "colab": {
          "base_uri": "https://localhost:8080/"
        },
        "outputId": "32a54f27-02ca-4341-e201-237dcde4e245"
      },
      "execution_count": 38,
      "outputs": [
        {
          "output_type": "stream",
          "name": "stdout",
          "text": [
            "2\n"
          ]
        }
      ]
    },
    {
      "cell_type": "code",
      "source": [
        "# Count: Contar el número de veces que un elemento aparece en la lista\n",
        "lista = [1, 2, 3, 4, 5]\n",
        "print(lista.count(4))"
      ],
      "metadata": {
        "id": "AGsFQZY_h4F2",
        "colab": {
          "base_uri": "https://localhost:8080/"
        },
        "outputId": "37e126b1-3007-4d93-b1dd-4348a8144d19"
      },
      "execution_count": 37,
      "outputs": [
        {
          "output_type": "stream",
          "name": "stdout",
          "text": [
            "1\n"
          ]
        }
      ]
    },
    {
      "cell_type": "markdown",
      "source": [
        "lista.count(4) devuelve la cantidad de veces que el número 4 aparece en la lista."
      ],
      "metadata": {
        "id": "Y5jbOmLR7A4J"
      }
    },
    {
      "cell_type": "markdown",
      "metadata": {
        "id": "c1cur6zi-ltR"
      },
      "source": [
        "#### Inserción"
      ]
    },
    {
      "cell_type": "code",
      "execution_count": 40,
      "metadata": {
        "id": "1k_sJ88X-ltR",
        "colab": {
          "base_uri": "https://localhost:8080/"
        },
        "outputId": "b7c75010-4f03-4732-b460-451e044f3b5e"
      },
      "outputs": [
        {
          "output_type": "stream",
          "name": "stdout",
          "text": [
            "[1, 2, 3, 6, 4, 5]\n"
          ]
        }
      ],
      "source": [
        "# Insertar un elemento en una posición específica\n",
        "lista = [1, 2, 3, 4, 5]\n",
        "lista.insert(3, 6)  # Inserta el valor 6 en la posición 3\n",
        "print(lista)  # Resultado: [1, 2, 3, 6, 4, 5]"
      ]
    },
    {
      "cell_type": "code",
      "source": [
        "# Insertar un elemento al final\n",
        "lista = [1, 2, 3, 4, 5]\n",
        "lista.append(6)  # Agrega el valor 6 al final\n",
        "print(lista)\n"
      ],
      "metadata": {
        "id": "fEdtAfAOibv7",
        "colab": {
          "base_uri": "https://localhost:8080/"
        },
        "outputId": "e76576cd-40e8-4b41-a31c-4ce3c057e8c8"
      },
      "execution_count": 42,
      "outputs": [
        {
          "output_type": "stream",
          "name": "stdout",
          "text": [
            "[1, 2, 3, 4, 5, 6]\n"
          ]
        }
      ]
    },
    {
      "cell_type": "markdown",
      "metadata": {
        "id": "SOOK443c-ltR"
      },
      "source": [
        "#### Atribución / Modificación"
      ]
    },
    {
      "cell_type": "code",
      "execution_count": 43,
      "metadata": {
        "id": "vKwWZabQ-ltR",
        "colab": {
          "base_uri": "https://localhost:8080/"
        },
        "outputId": "b51d656d-ac3b-4b01-c9c1-c56624d35264"
      },
      "outputs": [
        {
          "output_type": "stream",
          "name": "stdout",
          "text": [
            "[1, 2, 3, 95, 5]\n"
          ]
        }
      ],
      "source": [
        "# Atribución: Modificar un elemento de la lista\n",
        "lista = [1, 2, 3, 4, 5]\n",
        "lista[3] = 95  # Cambia el valor en el índice 3 (el número 4) por 95\n",
        "print(lista)\n"
      ]
    },
    {
      "cell_type": "markdown",
      "metadata": {
        "id": "6xJVY0Xd-ltR"
      },
      "source": [
        "#### Remoción"
      ]
    },
    {
      "cell_type": "code",
      "execution_count": null,
      "metadata": {
        "id": "-BQ8knKd-ltR"
      },
      "outputs": [],
      "source": [
        "# Remoción: Eliminar un elemento específico de la lista -  el primer encontrado\n"
      ]
    },
    {
      "cell_type": "code",
      "source": [
        "# Pop: Eliminar y devolver el último elemento de la lista\n"
      ],
      "metadata": {
        "id": "xoGg5LAZjW44"
      },
      "execution_count": null,
      "outputs": []
    },
    {
      "cell_type": "code",
      "source": [
        "# Pop: Eliminar y devolver elemento por su índice\n"
      ],
      "metadata": {
        "id": "hK0ItMe1jWws"
      },
      "execution_count": null,
      "outputs": []
    },
    {
      "cell_type": "code",
      "source": [
        "#Eliminar elemento de lista, según elemento\n"
      ],
      "metadata": {
        "id": "m7Rs0v9BjWoY"
      },
      "execution_count": null,
      "outputs": []
    },
    {
      "cell_type": "code",
      "source": [
        "#Eliminar todos los elementos de la lista\n"
      ],
      "metadata": {
        "id": "jnoidms0jWei"
      },
      "execution_count": null,
      "outputs": []
    },
    {
      "cell_type": "code",
      "source": [
        "#Eliminar lista entera\n"
      ],
      "metadata": {
        "id": "y67PiUoyjiVs"
      },
      "execution_count": null,
      "outputs": []
    },
    {
      "cell_type": "code",
      "source": [
        "#Especial: remoción multiple"
      ],
      "metadata": {
        "id": "c58oNIkphHmT"
      },
      "execution_count": null,
      "outputs": []
    },
    {
      "cell_type": "code",
      "source": [
        "a = [-1, 1, 66.25, 333, 333, 1234.5]\n"
      ],
      "metadata": {
        "id": "PtSRO7tahHUY"
      },
      "execution_count": null,
      "outputs": []
    },
    {
      "cell_type": "code",
      "source": [
        "a = [1,2,3,4,5,6]"
      ],
      "metadata": {
        "id": "_gdP9OPmZNYP"
      },
      "execution_count": null,
      "outputs": []
    },
    {
      "cell_type": "code",
      "source": [],
      "metadata": {
        "id": "GjZfMwp0hie9"
      },
      "execution_count": null,
      "outputs": []
    },
    {
      "cell_type": "markdown",
      "metadata": {
        "id": "4kmJMz0o-ltR"
      },
      "source": [
        "#### Ordinación"
      ]
    },
    {
      "cell_type": "code",
      "source": [
        "lista = [20, 2, 23, 80, 11]"
      ],
      "metadata": {
        "id": "jtXUS4giHDAw"
      },
      "execution_count": null,
      "outputs": []
    },
    {
      "cell_type": "code",
      "source": [
        "# Ordenar: Ordenar los elementos de la lista"
      ],
      "metadata": {
        "id": "jZqVYldqhq0h"
      },
      "execution_count": null,
      "outputs": []
    },
    {
      "cell_type": "code",
      "execution_count": null,
      "metadata": {
        "id": "vNRl09_K-ltR"
      },
      "outputs": [],
      "source": [
        "# Reverso: Invertir el orden de los elementos en la lista"
      ]
    },
    {
      "cell_type": "markdown",
      "metadata": {
        "id": "Rj1bSnci-ltR"
      },
      "source": [
        "#### Otras operaciones"
      ]
    },
    {
      "cell_type": "code",
      "execution_count": null,
      "metadata": {
        "id": "NZTzT1aU-ltR"
      },
      "outputs": [],
      "source": [
        "#Copiar una lista - ejemplo de mutabilidad\n",
        "lista_1 = [\"Manzana\", \"Banana\", \"Kiwi\"]\n",
        "lista_2 = lista_1.copy()\n",
        "lista_1[0]=\"Melocotón\"\n",
        "print(lista_1)\n",
        "print(lista_2)"
      ]
    },
    {
      "cell_type": "code",
      "source": [
        "#Unificar dos listas (operador +)\n",
        "lista_1 = [1,2,3]\n",
        "lista_2 = [100,200,300]"
      ],
      "metadata": {
        "id": "0-BaJzkojtA-"
      },
      "execution_count": null,
      "outputs": []
    },
    {
      "cell_type": "code",
      "source": [],
      "metadata": {
        "id": "JxLst-LlcdJf"
      },
      "execution_count": null,
      "outputs": []
    },
    {
      "cell_type": "code",
      "source": [
        "#Agregar una lista a otra (.extend())"
      ],
      "metadata": {
        "id": "vAaW2Uvljs4k"
      },
      "execution_count": null,
      "outputs": []
    },
    {
      "cell_type": "markdown",
      "metadata": {
        "id": "eHrTPDS3sc3_"
      },
      "source": [
        "### Ejemplo de funciones aplicadas a una lista"
      ]
    },
    {
      "cell_type": "markdown",
      "metadata": {
        "id": "EBmAaksZsc3_"
      },
      "source": [
        "| Función | Descripción\n",
        "|:---|:---|\n",
        "|len(list)|Devuelve longitud de la lista\n",
        "|max(list)|Devuelve el elemento de máximo valor de la lista|\n",
        "|min(list)|Devuelve el elemento de mínimo valor de la lista||\n",
        "|list(seq)|Convierte cualquier elemento a una lista||"
      ]
    },
    {
      "cell_type": "code",
      "execution_count": null,
      "metadata": {
        "id": "C7O9Nb_4sc4A"
      },
      "outputs": [],
      "source": [
        "#Longitud\n"
      ]
    },
    {
      "cell_type": "code",
      "execution_count": null,
      "metadata": {
        "id": "P3nkvoS7I1g4"
      },
      "outputs": [],
      "source": [
        "#Máximo\n"
      ]
    },
    {
      "cell_type": "code",
      "execution_count": null,
      "metadata": {
        "id": "lRB0iwgPI_6v"
      },
      "outputs": [],
      "source": [
        "#Mínimo\n"
      ]
    },
    {
      "cell_type": "code",
      "execution_count": null,
      "metadata": {
        "id": "kBs3svIa-ltS"
      },
      "outputs": [],
      "source": [
        "#Conversion String/Lista\n",
        "cadena = \"Enhorabuena\"\n"
      ]
    },
    {
      "cell_type": "code",
      "source": [
        "# Sum()\n",
        "a = [1,2,3,4,5,6]\n"
      ],
      "metadata": {
        "id": "XBQb0fgrVccT"
      },
      "execution_count": null,
      "outputs": []
    },
    {
      "cell_type": "markdown",
      "metadata": {
        "id": "nzMhoGQ3sc4F"
      },
      "source": [
        "**Ejercício**:\n",
        "\n",
        "Supongamos que estás planificando un viaje y necesitas organizar un itinerario. Crea un programa en Python que realice las siguientes operaciones:\n",
        "\n",
        "- Crea una lista vacía para almacenar los destinos del itinerario.\n",
        "- Permite que el usuario agregue al menos tres destinos a la lista.\n",
        "- Muestra el itinerario de viaje actual.\n",
        "- Permite que el usuario elimine un destino del itinerario por nombre.\n",
        "- Ordena los destinos del itinerario alfabéticamente.\n",
        "- Muestra el itinerario de viaje final.  "
      ]
    },
    {
      "cell_type": "code",
      "execution_count": 44,
      "metadata": {
        "id": "KEGAUwLQ-ltS",
        "colab": {
          "base_uri": "https://localhost:8080/"
        },
        "outputId": "4301f82a-01ea-45c4-f6e9-db407a5cd374"
      },
      "outputs": [
        {
          "output_type": "stream",
          "name": "stdout",
          "text": [
            "Ingresa un valor para agregar a la lista: casa\n",
            "['casa']\n"
          ]
        }
      ],
      "source": [
        "# Crear lista vacía para almacenar destinos del itinerario\n",
        "itinerario = []\n",
        "\n",
        "# Permitir que el usuario agregue al menos tres destinos\n",
        "for i in range(3):\n",
        "    destino = input(f\"Ingresa el destino {i+1}: \")\n",
        "    itinerario.append(destino)\n",
        "\n",
        "# Mostrar el itinerario de viaje actual\n",
        "print(\"\\nItinerario actual:\", itinerario)\n",
        "\n",
        "# Permitir que el usuario elimine un destino por nombre\n",
        "eliminar_destino = input(\"\\n¿Quieres eliminar un destino? (Ingresa el nombre del destino): \")\n",
        "if eliminar_destino in itinerario:\n",
        "    itinerario.remove(eliminar_destino)\n",
        "else:\n",
        "    print(f\"El destino '{eliminar_destino}' no está en el itinerario.\")\n",
        "\n",
        "# Ordenar los destinos alfabéticamente\n",
        "itinerario.sort()\n",
        "\n",
        "# Mostrar el itinerario de viaje final\n",
        "print(\"\\nItinerario final ordenado:\", itinerario)\n",
        "\n",
        "\n"
      ]
    },
    {
      "cell_type": "markdown",
      "metadata": {
        "id": "8f8rOakjsc4F"
      },
      "source": [
        "### Tuplas"
      ]
    },
    {
      "cell_type": "markdown",
      "metadata": {
        "id": "kvKtuUsv-ltS"
      },
      "source": [
        "#### Métodos\n",
        "\n",
        "| Método          | Descripción                                                                                          |\n",
        "|-----------------|------------------------------------------------------------------------------------------------------|\n",
        "| `count(valor)`  | Devuelve el número de veces que aparece un valor en la tupla.                                       |\n",
        "| `index(valor)`  | Devuelve el índice de la primera aparición de un valor en la tupla. Si el valor no está presente,    |\n",
        "|                 | lanza una excepción.                                                                                 |\n"
      ]
    },
    {
      "cell_type": "markdown",
      "metadata": {
        "id": "EXptyHzr-ltS"
      },
      "source": [
        "#### Creación"
      ]
    },
    {
      "cell_type": "code",
      "execution_count": null,
      "metadata": {
        "ExecuteTime": {
          "end_time": "2020-02-07T07:44:16.994964Z",
          "start_time": "2020-02-07T07:44:16.985314Z"
        },
        "id": "5jYgyqLosc4G"
      },
      "outputs": [],
      "source": [
        "#Creación"
      ]
    },
    {
      "cell_type": "code",
      "execution_count": null,
      "metadata": {
        "id": "e64gNjs6S5Q0"
      },
      "outputs": [],
      "source": [
        "tupla = (\"banana\", 2, 3, 4, 5)\n",
        "tupla_2 = tuple([1,2,3,4])\n",
        "tupla_3 = tuple((1,2,3))"
      ]
    },
    {
      "cell_type": "code",
      "source": [
        "a, b, c,d,e = tupla\n",
        "print(a,b,c,d,e)"
      ],
      "metadata": {
        "id": "W3Aux3EVV2JS"
      },
      "execution_count": null,
      "outputs": []
    },
    {
      "cell_type": "markdown",
      "metadata": {
        "id": "WzT7TjhK-ltS"
      },
      "source": [
        "#### Consulta/Seleccion"
      ]
    },
    {
      "cell_type": "code",
      "execution_count": null,
      "metadata": {
        "id": "Foc7Bon1-ltS"
      },
      "outputs": [],
      "source": [
        "#Como en listas"
      ]
    },
    {
      "cell_type": "markdown",
      "metadata": {
        "id": "PI5FeQt3sc4G"
      },
      "source": [
        "#### Inserción"
      ]
    },
    {
      "cell_type": "code",
      "execution_count": null,
      "metadata": {
        "id": "cqYqzTJnG6dq"
      },
      "outputs": [],
      "source": [
        "# En serio?\n",
        "tupla[0]=1"
      ]
    },
    {
      "cell_type": "markdown",
      "metadata": {
        "id": "UVzRRlqD-ltT"
      },
      "source": [
        "#### Otras operaciones"
      ]
    },
    {
      "cell_type": "code",
      "execution_count": null,
      "metadata": {
        "id": "4-Hv_IvPG6sw"
      },
      "outputs": [],
      "source": [
        "#count\n",
        "tupla=(1,2,3,3,4,5,6,6,6,7)\n",
        "print(tupla.count(3))"
      ]
    },
    {
      "cell_type": "code",
      "source": [
        "#Unir 2 tuplas\n",
        "tupla_1 = (1,2,3)\n",
        "tupla_2 = (100,200,300)\n",
        "tupla_suma = tupla_1 + tupla_2\n",
        "print(tupla_suma)\n"
      ],
      "metadata": {
        "id": "aaCBjX50HRTR"
      },
      "execution_count": null,
      "outputs": []
    },
    {
      "cell_type": "markdown",
      "metadata": {
        "id": "kWFF3RE8sc4H"
      },
      "source": [
        "### Ejemplo de funciones en una tupla"
      ]
    },
    {
      "cell_type": "markdown",
      "metadata": {
        "id": "mlzTk2SWsc4H"
      },
      "source": [
        "| Función | Descripción\n",
        "|:---|:---|\n",
        "|len(tuple)|Devuelve longitud de la tupla\n",
        "|max(tuple)|Devuelve el elemento de máximo valor de la tupla|\n",
        "|min(tuple)|Devuelve el elemento de mínimo valor de la tupla||\n",
        "|tuple(sec)|Convierte la lista en una tupla|"
      ]
    },
    {
      "cell_type": "markdown",
      "metadata": {
        "id": "QMZddZszsc4J"
      },
      "source": [
        "### Sets"
      ]
    },
    {
      "cell_type": "markdown",
      "metadata": {
        "id": "cCSeEfjb-ltT"
      },
      "source": [
        "#### Métodos\n",
        "\n",
        "| Método                        | Descripción                                                                                   |\n",
        "|-------------------------------|-----------------------------------------------------------------------------------------------|\n",
        "| `add(elemento)`               | Agrega un elemento al conjunto.                                                              |\n",
        "| `clear()`                     | Elimina todos los elementos del conjunto.                                                     |\n",
        "| `copy()`                      | Devuelve una copia superficial del conjunto.                                                  |\n",
        "| `difference(conjunto)`        | Devuelve un nuevo conjunto que contiene elementos que están en el primer conjunto pero no en  |\n",
        "|                               | el segundo.                                                                                   |\n",
        "| `difference_update(conjunto)` | Actualiza el conjunto eliminando elementos que están en el conjunto dado.                     |\n",
        "| `discard(elemento)`           | Elimina un elemento del conjunto si está presente.                                            |\n",
        "| `intersection(conjunto)`      | Devuelve un nuevo conjunto que contiene elementos que están en ambos conjuntos.               |\n",
        "| `intersection_update(conjunto)` | Actualiza el conjunto reteniendo solo los elementos presentes tanto en el conjunto actual como |\n",
        "|                                 | en el conjunto dado.                                                                          |\n",
        "| `isdisjoint(conjunto)`        | Devuelve `True` si dos conjuntos no tienen elementos en común.                                |\n",
        "| `issubset(conjunto)`          | Devuelve `True` si el conjunto es un subconjunto del conjunto dado.                           |\n",
        "| `issuperset(conjunto)`        | Devuelve `True` si el conjunto es un superconjunto del conjunto dado.                         |\n",
        "| `pop()`                       | Elimina y devuelve un elemento aleatorio del conjunto.                                        |\n",
        "| `remove(elemento)`            | Elimina un elemento del conjunto.                                                             |\n",
        "| `symmetric_difference(conjunto)` | Devuelve un nuevo conjunto que contiene elementos que están en un conjunto o en el otro,     |\n",
        "|                                  | pero no en ambos.                                                                             |\n",
        "| `symmetric_difference_update(conjunto)` | Actualiza el conjunto con los elementos que están en un conjunto o en el otro, pero no en |\n",
        "|                                           | ambos.                                                                                        |\n",
        "| `union(conjunto)`             | Devuelve un nuevo conjunto que contiene todos los elementos de ambos conjuntos.               |\n",
        "| `update(iterable)`            | Agrega múltiples elementos al conjunto.                                                      |\n",
        "\n"
      ]
    },
    {
      "cell_type": "markdown",
      "metadata": {
        "id": "rMEI8MZj-ltT"
      },
      "source": [
        "#### Creación"
      ]
    },
    {
      "cell_type": "code",
      "execution_count": null,
      "metadata": {
        "id": "ciWAvzAa-ltT"
      },
      "outputs": [],
      "source": [
        "# Crear dos conjuntos\n",
        "conjunto1 = {1, 2, 3, 4, 5}\n",
        "conjunto2 = set((4, 5, 6, 7, 8,9,10))\n"
      ]
    },
    {
      "cell_type": "code",
      "source": [],
      "metadata": {
        "colab": {
          "base_uri": "https://localhost:8080/",
          "height": 110
        },
        "id": "_EsKir2vWPS1",
        "outputId": "6973f6c2-af4a-481c-df50-f7e37ca8e191"
      },
      "execution_count": null,
      "outputs": [
        {
          "output_type": "error",
          "ename": "SyntaxError",
          "evalue": "invalid syntax (<ipython-input-4-4b62d0e6a662>, line 1)",
          "traceback": [
            "\u001b[0;36m  File \u001b[0;32m\"<ipython-input-4-4b62d0e6a662>\"\u001b[0;36m, line \u001b[0;32m1\u001b[0m\n\u001b[0;31m    conjunto1{1}\u001b[0m\n\u001b[0m             ^\u001b[0m\n\u001b[0;31mSyntaxError\u001b[0m\u001b[0;31m:\u001b[0m invalid syntax\n"
          ]
        }
      ]
    },
    {
      "cell_type": "markdown",
      "metadata": {
        "id": "Jzy2NL_l-ltT"
      },
      "source": [
        "#### Consulta/Seleccion\n",
        "\n",
        "Importante: Conjuntos en Python son estructuras de datos no ordenadas, no hay una manera directa de \"seleccionar\" un elemento por un índice como en una lista. Sin embargo, puedes verificar si un elemento está presente en el conjunto:"
      ]
    },
    {
      "cell_type": "code",
      "source": [
        "#expresion \"in\"\n"
      ],
      "metadata": {
        "id": "WldG-u6q5Eay"
      },
      "execution_count": null,
      "outputs": []
    },
    {
      "cell_type": "markdown",
      "source": [
        " Una ventaja de trabajar con conjuntos en Python es que tienen métodos específicos para operaciones de *pertenencia* y *operaciones entre conjuntos*."
      ],
      "metadata": {
        "id": "1vpsAaC15cn6"
      }
    },
    {
      "cell_type": "markdown",
      "source": [
        "*Pertenencia*"
      ],
      "metadata": {
        "id": "FwvfESC_5u37"
      }
    },
    {
      "cell_type": "code",
      "source": [
        "# Método issubset(): Devolver True si todos los elementos de un conjunto están presentes en otro conjunto\n",
        "\n",
        "es_subconjunto = conjunto1.issubset(conjunto2)\n",
        "print(\"conjunto1 es subconjunto de conjunto2:\", es_subconjunto)"
      ],
      "metadata": {
        "id": "AeGkZrOU5LiL"
      },
      "execution_count": null,
      "outputs": []
    },
    {
      "cell_type": "code",
      "source": [
        "# Método issuperset(): Devolver True si un conjunto contiene todos los elementos de otro conjunto\n",
        "es_superconjunto = conjunto1.issuperset(conjunto2)\n",
        "print(\"conjunto1 es superconjunto de conjunto2:\", es_superconjunto)\n"
      ],
      "metadata": {
        "id": "Ek8uMdfc6MpD"
      },
      "execution_count": null,
      "outputs": []
    },
    {
      "cell_type": "markdown",
      "source": [
        "*Operaciones entre conjuntos*"
      ],
      "metadata": {
        "id": "hJPd_ky26TeR"
      }
    },
    {
      "cell_type": "code",
      "source": [
        "# Método difference(): Devolver un nuevo conjunto que es la diferencia entre dos conjuntos\n",
        "diferencia = conjunto1.difference(conjunto2)\n",
        "print(\"Diferencia entre conjunto1 y conjunto2:\", diferencia)"
      ],
      "metadata": {
        "id": "G4zMtknmtiQ0"
      },
      "execution_count": null,
      "outputs": []
    },
    {
      "cell_type": "code",
      "source": [
        "# Método symmetric_difference(): Devolver un nuevo conjunto que es la diferencia simétrica entre dos conjuntos\n",
        "dif_simetrica = conjunto1.symmetric_difference(conjunto2)\n",
        "print(\"Diferencia simétrica entre conjunto1 y conjunto2:\", dif_simetrica)"
      ],
      "metadata": {
        "id": "CPwiQWHnth5-"
      },
      "execution_count": null,
      "outputs": []
    },
    {
      "cell_type": "code",
      "source": [
        "# Método intersection(): Devolver un nuevo conjunto que es la intersección entre dos conjuntos\n",
        "interseccion = conjunto1.intersection(conjunto2)\n",
        "print(\"Intersección entre conjunto1 y conjunto2:\", interseccion)"
      ],
      "metadata": {
        "id": "j4PFQ8mEtiEi"
      },
      "execution_count": null,
      "outputs": []
    },
    {
      "cell_type": "code",
      "source": [
        "# Método isdisjoint(): Devolver True si dos conjuntos no tienen elementos en común\n",
        "es_disjunto = conjunto1.isdisjoint(conjunto2)\n",
        "print(\"Los conjuntos son disjuntos:\", es_disjunto)"
      ],
      "metadata": {
        "id": "OfPS_xwK6alD"
      },
      "execution_count": null,
      "outputs": []
    },
    {
      "cell_type": "code",
      "source": [
        "# Método union(): Devolver un nuevo conjunto que es la unión de dos conjuntos\n",
        "union = conjunto1.union(conjunto2)\n",
        "print(\"Unión de conjunto1 y conjunto2:\", union)"
      ],
      "metadata": {
        "id": "toov2G4ht4-k"
      },
      "execution_count": null,
      "outputs": []
    },
    {
      "cell_type": "code",
      "execution_count": null,
      "metadata": {
        "id": "vtdSdt6F-ltT"
      },
      "outputs": [],
      "source": [
        "\n",
        "# Método difference_update(): Eliminar todos los elementos de un conjunto que también están en otro conjunto\n",
        "conjunto1.difference_update(conjunto2)\n",
        "print(\"Después de difference_update(conjunto2):\", conjunto1)\n",
        "\n",
        "# Método intersection_update(): Actualizar un conjunto con la intersección de sí mismo con otro conjunto\n",
        "conjunto1.intersection_update(conjunto2)\n",
        "print(\"Después de intersection_update(conjunto2):\", conjunto1)\n",
        "\n",
        "# Método symmetric_difference_update(): Actualizar un conjunto con la diferencia simétrica de sí mismo con otro conjunto\n",
        "conjunto1.symmetric_difference_update(conjunto2)\n",
        "print(\"Después de symmetric_difference_update(conjunto2):\", conjunto1)"
      ]
    },
    {
      "cell_type": "markdown",
      "metadata": {
        "id": "PJY53LZH-ltT"
      },
      "source": [
        "#### Inserción"
      ]
    },
    {
      "cell_type": "code",
      "execution_count": null,
      "metadata": {
        "id": "KpGFaE84-ltT"
      },
      "outputs": [],
      "source": [
        "# Método add(): Agregar un elemento al conjunto\n",
        "conjunto1.add(6)\n",
        "print(\"Después de add(6):\", conjunto1)"
      ]
    },
    {
      "cell_type": "markdown",
      "metadata": {
        "id": "cYq0J7DO-ltU"
      },
      "source": [
        "#### Atribución / Modificación"
      ]
    },
    {
      "cell_type": "code",
      "execution_count": null,
      "metadata": {
        "id": "GtKxDsti-ltU"
      },
      "outputs": [],
      "source": [
        "# Método update(): Actualizar un conjunto con la unión de sí mismo con otro conjunto\n",
        "conjunto1.update(conjunto2)\n",
        "print(\"Después de update(conjunto2) en conjunto1:\", conjunto1)"
      ]
    },
    {
      "cell_type": "code",
      "source": [
        "# Eliminar el elemento que deseas cambiar y agregar el nuevo elemento al conjunto\n",
        "conjunto1.remove(4)\n",
        "conjunto1.add(6)"
      ],
      "metadata": {
        "id": "nS-HFuoM7CKc"
      },
      "execution_count": null,
      "outputs": []
    },
    {
      "cell_type": "markdown",
      "metadata": {
        "id": "EoQxrWfI-ltU"
      },
      "source": [
        "#### Remoción"
      ]
    },
    {
      "cell_type": "code",
      "source": [
        "conjunto1 = {1, 2, 3, 4, 5}\n",
        "conjunto2 = set((4, 5, 6, 7, 8,9,10))"
      ],
      "metadata": {
        "id": "K7OWlXd27Ovp"
      },
      "execution_count": null,
      "outputs": []
    },
    {
      "cell_type": "code",
      "execution_count": null,
      "metadata": {
        "id": "WFCcWt_W-ltU"
      },
      "outputs": [],
      "source": [
        "# Método discard(): Eliminar un elemento de un conjunto si está presente\n",
        "conjunto2.discard(6)\n",
        "print(\"Después de discard(6) en conjunto2:\", conjunto2)"
      ]
    },
    {
      "cell_type": "code",
      "source": [
        "# Método remove(): Eliminar un elemento específico de un conjunto\n",
        "conjunto2.remove(8)\n",
        "print(\"Después de remove(8) en conjunto2:\", conjunto2)"
      ],
      "metadata": {
        "id": "HyJnRG3q7GXK"
      },
      "execution_count": null,
      "outputs": []
    },
    {
      "cell_type": "code",
      "source": [
        "# Método pop(): Eliminar y devolver un elemento aleatorio del conjunto\n",
        "elemento_eliminado = conjunto1.pop()\n",
        "print(\"Elemento eliminado aleatoriamente de conjunto1:\", elemento_eliminado)"
      ],
      "metadata": {
        "id": "uPloCBoW7GI_"
      },
      "execution_count": null,
      "outputs": []
    },
    {
      "cell_type": "code",
      "source": [
        "# Método clear(): Eliminar todos los elementos del conjunto\n",
        "conjunto1.clear()\n",
        "print(\"Después de clear():\", conjunto1)"
      ],
      "metadata": {
        "id": "C3bTwNGm7GBf"
      },
      "execution_count": null,
      "outputs": []
    },
    {
      "cell_type": "markdown",
      "metadata": {
        "id": "XBs8KsZj-ltU"
      },
      "source": [
        "### Ejemplo de funciones en sets\n",
        "\n",
        "| Función         | Descripción                                                                       | Ejemplo                                       |\n",
        "|-----------------|-----------------------------------------------------------------------------------|-----------------------------------------------|\n",
        "| `len()`         | Devuelve el número de elementos en el conjunto.                                   | `len({1, 2, 3, 4, 5})`                        |\n",
        "| `max()`         | Devuelve el elemento máximo en el conjunto.                                       | `max({1, 2, 3, 4, 5})`                        |\n",
        "| `min()`         | Devuelve el elemento mínimo en el conjunto.                                       | `min({1, 2, 3, 4, 5})`                        |\n",
        "| `sum()`         | Devuelve la suma de todos los elementos en el conjunto si son números.             | `sum({1, 2, 3, 4, 5})`                        |\n",
        "| `sorted()`      | Devuelve una lista ordenada con los elementos del conjunto.                        | `sorted({3, 1, 4, 1, 5, 9})`                  |\n"
      ]
    },
    {
      "cell_type": "markdown",
      "metadata": {
        "id": "zyPuGC4isc4N"
      },
      "source": [
        "### Diccionarios"
      ]
    },
    {
      "cell_type": "markdown",
      "metadata": {
        "id": "F4ZsoWnk-ltU"
      },
      "source": [
        "#### Métodos\n",
        "\n",
        "| Método                    | Descripción                                                                                        |\n",
        "|---------------------------|----------------------------------------------------------------------------------------------------|\n",
        "| `clear()`                 | Elimina todos los elementos del diccionario.                                                       |\n",
        "| `copy()`                  | Devuelve una copia superficial del diccionario.                                                    |\n",
        "| `fromkeys(secuencia, valor)` | Crea un nuevo diccionario con claves de la secuencia y valores proporcionados.                    |\n",
        "| `get(clave, valor_por_defecto)` | Devuelve el valor asociado con la clave dada. Si la clave no está presente, devuelve el valor por defecto. |\n",
        "| `items()`                 | Devuelve una vista de pares clave-valor del diccionario.                                            |\n",
        "| `keys()`                  | Devuelve una vista de las claves del diccionario.                                                   |\n",
        "| `pop(clave, valor_por_defecto)` | Elimina y devuelve el valor asociado con la clave dada. Si la clave no está presente, devuelve el valor por defecto. |\n",
        "| `popitem()`               | Elimina y devuelve un par clave-valor aleatorio del diccionario.                                    |\n",
        "| `setdefault(clave, valor_por_defecto)` | Devuelve el valor asociado con la clave dada. Si la clave no está presente, inserta la clave con el valor por defecto. |\n",
        "| `update(diccionario)`     | Actualiza el diccionario con pares clave-valor del diccionario dado.                                |\n",
        "| `values()`                | Devuelve una vista de los valores del diccionario.                                                  |\n"
      ]
    },
    {
      "cell_type": "markdown",
      "metadata": {
        "id": "ppycA8iG-ltU"
      },
      "source": [
        "#### Creación\n"
      ]
    },
    {
      "cell_type": "code",
      "execution_count": null,
      "metadata": {
        "id": "sv97SZAG-ltU"
      },
      "outputs": [],
      "source": [
        "#{:} / dict()\n",
        "dict_1 = {'nombre': 'Juan', 'edad': 30, 'ciudad': 'Madrid'}\n",
        "dict_1\n"
      ]
    },
    {
      "cell_type": "code",
      "source": [
        "#con dict()\n",
        "dict_3 = dict(nombre=\"Juan\", edad=30, ciudad=\"Madrid\")\n",
        "dict_3"
      ],
      "metadata": {
        "id": "GjHrk486Xte-"
      },
      "execution_count": null,
      "outputs": []
    },
    {
      "cell_type": "code",
      "source": [
        "#con {:} numeros\n",
        "dict_2 = { 1:\"Paula\", 2:\"Maria\", 3:\"Pedro\"}\n",
        "dict_2"
      ],
      "metadata": {
        "id": "Sjfz_FjbXvTf"
      },
      "execution_count": null,
      "outputs": []
    },
    {
      "cell_type": "code",
      "source": [
        "#vacio para llenar después\n",
        "dict_4 = dict()\n",
        "dict_4[\"Nombre\"]=\"Juan\"\n",
        "dict_4"
      ],
      "metadata": {
        "id": "JMkUGZ_cXzYE"
      },
      "execution_count": null,
      "outputs": []
    },
    {
      "cell_type": "code",
      "source": [
        "# fromkeys(): Crear un nuevo diccionario con claves de una secuencia y valores proporcionados\n",
        "nombres = ['Juan', 'María', 'Pedro']\n",
        "edad=30"
      ],
      "metadata": {
        "id": "Kv6cHTO5_fml"
      },
      "execution_count": null,
      "outputs": []
    },
    {
      "cell_type": "code",
      "source": [
        "#Diccionarios de listas\n",
        "dict_coches = {\n",
        "    \"modelos\": [\"Toyota\", \"Honda\", \"Ford\"],\n",
        "    \"años\": [2020,2021,2022],\n",
        "    \"colores\": [\"amarillo\", \"azul\", \"rojo\"]\n",
        "}\n"
      ],
      "metadata": {
        "id": "gDCdRLJMYCgo"
      },
      "execution_count": null,
      "outputs": []
    },
    {
      "cell_type": "code",
      "execution_count": null,
      "metadata": {
        "id": "l0ri7QI--ltU"
      },
      "outputs": [],
      "source": [
        "#Diccionarios de diccionarios -  Diccionarios Anidados\n",
        "dict_coches_2 = {\n",
        "    'Toyota': {\n",
        "        'años': [2020, 2021, 2022],\n",
        "        'color': ['gris', 'blanco', 'verde']\n",
        "    },\n",
        "    'Ford': {\n",
        "        'años': [2020, 2021, 2022],\n",
        "        'color': ['azul']\n",
        "    },\n",
        "    'Honda': {\n",
        "        'años': [2020, 2021, 2022],\n",
        "        'color': ['rojo', 'morado', 'naranja', \"negro\"]\n",
        "    }\n",
        "}"
      ]
    },
    {
      "cell_type": "code",
      "source": [
        "\n",
        "dict_toyota = {\n",
        "    \"Toyota\": {\n",
        "      'años': [2020, 2021, 2022],\n",
        "      'colores': ['rojo', 'azul', 'verde']\n",
        "      }\n",
        "    }\n",
        "\n",
        "\n",
        "dict_ford = {\n",
        "        'Ford': {\n",
        "          'años': [2020, 2021, 2022],\n",
        "          'color': ['azul']\n",
        "          }\n",
        "        }\n",
        "\n",
        "dict_honda = {\n",
        "    'Honda': {\n",
        "        'años': [2020, 2021, 2022],\n",
        "        'color': ['rojo', 'morado', 'naranja', \"negro\"]\n",
        "    }\n",
        "}"
      ],
      "metadata": {
        "id": "Fb6lLEPv_cc-"
      },
      "execution_count": null,
      "outputs": []
    },
    {
      "cell_type": "code",
      "source": [],
      "metadata": {
        "id": "ol4LDfRzCc2g"
      },
      "execution_count": null,
      "outputs": []
    },
    {
      "cell_type": "markdown",
      "metadata": {
        "id": "Z-r9R9IN-ltV"
      },
      "source": [
        "#### Consulta/Seleccion"
      ]
    },
    {
      "cell_type": "code",
      "execution_count": null,
      "metadata": {
        "id": "HMxShjVC-ltV"
      },
      "outputs": [],
      "source": [
        "dict_2 = { 1:\"Paula\", 2:\"Maria\", 3:\"Pedro\"}\n",
        "dict_2\n"
      ]
    },
    {
      "cell_type": "code",
      "source": [
        "dict_coches_2 = {\n",
        "    'Toyota': {\n",
        "        'años': [2020, 2021, 2022],\n",
        "        'color': ['gris', 'blanco', 'verde']\n",
        "    },\n",
        "    'Ford': {\n",
        "        'años': [2020, 2021, 2022],\n",
        "        'color': ['azul']\n",
        "    },\n",
        "    'Honda': {\n",
        "        'años': [2020, 2021, 2022],\n",
        "        'color': ['rojo', 'morado', 'naranja', \"negro\"]\n",
        "    }\n",
        "}\n",
        "dict_coches_2"
      ],
      "metadata": {
        "id": "SctQFn1wYWmf"
      },
      "execution_count": null,
      "outputs": []
    },
    {
      "cell_type": "code",
      "source": [
        "# get(): Devolver el valor asociado con la clave dada\n",
        "\n",
        "\n"
      ],
      "metadata": {
        "id": "Zk3HzX0kAF0q"
      },
      "execution_count": null,
      "outputs": []
    },
    {
      "cell_type": "code",
      "source": [
        "# items(): Devolver una vista de pares clave-valor del diccionario\n",
        "\n"
      ],
      "metadata": {
        "id": "ynnYj5_tAFxF"
      },
      "execution_count": null,
      "outputs": []
    },
    {
      "cell_type": "code",
      "source": [
        "# keys(): Devolver una vista de las claves del diccionario\n",
        "\n",
        "\n"
      ],
      "metadata": {
        "id": "LPA6nGBaAFth"
      },
      "execution_count": null,
      "outputs": []
    },
    {
      "cell_type": "code",
      "source": [],
      "metadata": {
        "id": "r1jVU9zWAFqP"
      },
      "execution_count": null,
      "outputs": []
    },
    {
      "cell_type": "code",
      "source": [
        "# values(): Devolver una vista de los valores del diccionario\n"
      ],
      "metadata": {
        "id": "yHncOcezAFmI"
      },
      "execution_count": null,
      "outputs": []
    },
    {
      "cell_type": "code",
      "source": [],
      "metadata": {
        "id": "C4UpuhFqAFiT"
      },
      "execution_count": null,
      "outputs": []
    },
    {
      "cell_type": "code",
      "source": [],
      "metadata": {
        "id": "Sgo0CJ3QDdFu"
      },
      "execution_count": null,
      "outputs": []
    },
    {
      "cell_type": "code",
      "source": [],
      "metadata": {
        "id": "pZqVYR1lAFcp"
      },
      "execution_count": null,
      "outputs": []
    },
    {
      "cell_type": "markdown",
      "metadata": {
        "id": "rUYnbOUT-ltV"
      },
      "source": [
        "#### Inserción\n"
      ]
    },
    {
      "cell_type": "code",
      "execution_count": null,
      "metadata": {
        "id": "kO_cE0qw-ltV"
      },
      "outputs": [],
      "source": [
        "\n",
        "\n"
      ]
    },
    {
      "cell_type": "markdown",
      "metadata": {
        "id": "AEkFqYsY-ltV"
      },
      "source": [
        "#### Atribución / Modificación"
      ]
    },
    {
      "cell_type": "code",
      "execution_count": null,
      "metadata": {
        "id": "fcxudlyP-ltV"
      },
      "outputs": [],
      "source": [
        "# update(): Actualizar el diccionario con pares clave-valor de otro diccionario\n",
        "update_ford = {\n",
        "      'Ford': {\n",
        "        'año': [2020, 2021, 2022],\n",
        "        'color': ['azul',\"rojo\",\"blanco\"]\n",
        "        }\n",
        "      }\n"
      ]
    },
    {
      "cell_type": "code",
      "source": [
        "#acceso directo\n"
      ],
      "metadata": {
        "id": "fdIFRimUDv0T"
      },
      "execution_count": null,
      "outputs": []
    },
    {
      "cell_type": "markdown",
      "metadata": {
        "id": "gLiMR6LF-ltV"
      },
      "source": [
        "#### Remoción\n"
      ]
    },
    {
      "cell_type": "code",
      "execution_count": null,
      "metadata": {
        "id": "tJi-eczI-ltX"
      },
      "outputs": [],
      "source": [
        "#ejemplo\n",
        "dict_6={1:1, 2:1, 3:1}\n"
      ]
    },
    {
      "cell_type": "code",
      "execution_count": null,
      "metadata": {
        "id": "bC9MW2Et-ltX"
      },
      "outputs": [],
      "source": [
        "# clear(): Eliminar todos los elementos del diccionario\n"
      ]
    },
    {
      "cell_type": "code",
      "source": [
        "# pop(): Eliminar y devolver el valor asociado con la clave dada\n",
        "dict_coches_2.pop('Toyota')\n"
      ],
      "metadata": {
        "id": "AQsJrKIYEItv"
      },
      "execution_count": null,
      "outputs": []
    },
    {
      "cell_type": "code",
      "source": [
        "# popitem(): Eliminar y devolver un par clave-valor aleatorio del diccionario\n",
        "\n"
      ],
      "metadata": {
        "id": "xTar9uKLEId9"
      },
      "execution_count": null,
      "outputs": []
    },
    {
      "cell_type": "code",
      "source": [
        "#Eliminar diccionario - del\n"
      ],
      "metadata": {
        "id": "o3IHTxxiEIUX"
      },
      "execution_count": null,
      "outputs": []
    },
    {
      "cell_type": "markdown",
      "metadata": {
        "id": "qKAAAd1N-ltX"
      },
      "source": [
        "### Ejemplo de funciones en Dicionarios\n",
        "\n",
        "| Función      | Descripción                                                          | Ejemplo                   |\n",
        "|--------------|----------------------------------------------------------------------|---------------------------|\n",
        "| `len()`      | Devuelve la longitud de un objeto.                                  | `len([1, 2, 3])`          |\n",
        "| `max()`      | Devuelve el valor máximo en un iterable o el argumento más grande.   | `max(5, 10, 20)`          |\n",
        "| `min()`      | Devuelve el valor mínimo en un iterable o el argumento más pequeño.  | `min(5, 10, 20)`          |\n",
        "| `sum()`      | Devuelve la suma de todos los elementos en un iterable.              | `sum([1, 2, 3])`          |\n",
        "| `sorted()`   | Devuelve una lista ordenada de los elementos en un iterable.         | `sorted([3, 1, 2])`       |\n",
        "\n"
      ]
    },
    {
      "cell_type": "markdown",
      "metadata": {
        "id": "UT13ol-Dsc4S"
      },
      "source": [
        "Ejercicio:\n",
        "- Genera un diccionario con 3 ciudades como keys y su número de habitantes. Una de las ciudades debe ser Barcelona.\n",
        "- Devuelve el valor de cada etiqueta y obtiene el número total de habitantes sumando todas las ciudades.\n",
        "- Al mismo diccionario, agrega una ciudad con su número de habitantes.\n",
        "- Construir un diccionario anidado solo en la key Barcelona que tenga su num de habitantes y PIB.\n",
        "- Borra los valores de Barcelona del diccionario\n",
        "    "
      ]
    },
    {
      "cell_type": "code",
      "execution_count": null,
      "metadata": {
        "id": "bkMy1Nz2q2Zg"
      },
      "outputs": [],
      "source": []
    },
    {
      "cell_type": "code",
      "execution_count": null,
      "metadata": {
        "id": "abozsfx6q2Zg"
      },
      "outputs": [],
      "source": []
    },
    {
      "cell_type": "code",
      "execution_count": null,
      "metadata": {
        "id": "PhfJpKYXq2Zg"
      },
      "outputs": [],
      "source": []
    },
    {
      "cell_type": "markdown",
      "source": [
        "### **Extra**: \"Conversión\" entre tipos estructurados"
      ],
      "metadata": {
        "id": "M9Rkc696jgCt"
      }
    },
    {
      "cell_type": "code",
      "source": [
        "## Conversión de lista a tupla:\n",
        "# Lista original\n",
        "lista = [1, 2, 3, 4, 5]\n",
        "\n",
        "# Convertir la lista a tupla\n",
        "tupla = tuple(lista)\n",
        "\n",
        "print(\"Lista original:\", lista)\n",
        "print(\"Tupla resultante:\", tupla)\n"
      ],
      "metadata": {
        "id": "q3RxWgjSj7DL"
      },
      "execution_count": null,
      "outputs": []
    },
    {
      "cell_type": "code",
      "source": [
        "## Conversión de tupla a lista:\n",
        "\n",
        "# Tupla original\n",
        "tupla = (1, 2, 3, 4, 5)\n",
        "\n",
        "# Convertir la tupla a lista\n",
        "lista = list(tupla)\n",
        "\n",
        "print(\"Tupla original:\", tupla)\n",
        "print(\"Lista resultante:\", lista)\n"
      ],
      "metadata": {
        "id": "9Nj64YVFkhLt"
      },
      "execution_count": null,
      "outputs": []
    },
    {
      "cell_type": "code",
      "source": [
        "## Conversión de lista a conjunto (!):\n",
        "\n",
        "# Lista original con elementos duplicados\n",
        "lista = [1, 2, 2, 3, 3, 4, 5, 5]\n",
        "\n",
        "# Convertir la lista a conjunto (eliminando duplicados)\n",
        "conjunto = set(lista)\n",
        "\n",
        "print(\"Lista original:\", lista)\n",
        "print(\"Conjunto resultante:\", conjunto)"
      ],
      "metadata": {
        "id": "xD7wH8JQkm53"
      },
      "execution_count": null,
      "outputs": []
    },
    {
      "cell_type": "code",
      "source": [
        "## Conversión de conjunto a lista:\n",
        "\n",
        "\n",
        "# Conjunto original\n",
        "conjunto = {1, 2, 3, 4, 5}\n",
        "\n",
        "# Convertir el conjunto a lista\n",
        "lista = list(conjunto)\n",
        "\n",
        "print(\"Conjunto original:\", conjunto)\n",
        "print(\"Lista resultante:\", lista)\n",
        "\n"
      ],
      "metadata": {
        "id": "ouwXjLKbk4GQ"
      },
      "execution_count": null,
      "outputs": []
    },
    {
      "cell_type": "code",
      "source": [
        "\n"
      ],
      "metadata": {
        "id": "x4l8CcVdk9ya"
      },
      "execution_count": null,
      "outputs": []
    },
    {
      "cell_type": "code",
      "source": [],
      "metadata": {
        "id": "hW8M8q1nkbLv"
      },
      "execution_count": null,
      "outputs": []
    }
  ],
  "metadata": {
    "colab": {
      "provenance": [],
      "toc_visible": true,
      "include_colab_link": true
    },
    "hide_input": false,
    "kernelspec": {
      "display_name": "Python 3",
      "language": "python",
      "name": "python3"
    },
    "language_info": {
      "codemirror_mode": {
        "name": "ipython",
        "version": 3
      },
      "file_extension": ".py",
      "mimetype": "text/x-python",
      "name": "python",
      "nbconvert_exporter": "python",
      "pygments_lexer": "ipython3",
      "version": "3.12.1"
    },
    "latex_envs": {
      "LaTeX_envs_menu_present": true,
      "autoclose": false,
      "autocomplete": true,
      "bibliofile": "biblio.bib",
      "cite_by": "apalike",
      "current_citInitial": 1,
      "eqLabelWithNumbers": true,
      "eqNumInitial": 1,
      "hotkeys": {
        "equation": "Ctrl-E",
        "itemize": "Ctrl-I"
      },
      "labels_anchors": false,
      "latex_user_defs": false,
      "report_style_numbering": false,
      "user_envs_cfg": false
    },
    "toc": {
      "base_numbering": 1,
      "nav_menu": {},
      "number_sections": true,
      "sideBar": true,
      "skip_h1_title": false,
      "title_cell": "Table of Contents",
      "title_sidebar": "Contents",
      "toc_cell": false,
      "toc_position": {},
      "toc_section_display": true,
      "toc_window_display": false
    },
    "varInspector": {
      "cols": {
        "lenName": 16,
        "lenType": 16,
        "lenVar": 40
      },
      "kernels_config": {
        "python": {
          "delete_cmd_postfix": "",
          "delete_cmd_prefix": "del ",
          "library": "var_list.py",
          "varRefreshCmd": "print(var_dic_list())"
        },
        "r": {
          "delete_cmd_postfix": ") ",
          "delete_cmd_prefix": "rm(",
          "library": "var_list.r",
          "varRefreshCmd": "cat(var_dic_list()) "
        }
      },
      "types_to_exclude": [
        "module",
        "function",
        "builtin_function_or_method",
        "instance",
        "_Feature"
      ],
      "window_display": false
    }
  },
  "nbformat": 4,
  "nbformat_minor": 0
}