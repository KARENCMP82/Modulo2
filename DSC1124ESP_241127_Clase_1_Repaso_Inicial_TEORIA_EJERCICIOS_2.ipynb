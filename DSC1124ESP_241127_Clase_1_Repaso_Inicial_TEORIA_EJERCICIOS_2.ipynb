{
  "cells": [
    {
      "cell_type": "markdown",
      "metadata": {
        "id": "view-in-github",
        "colab_type": "text"
      },
      "source": [
        "<a href=\"https://colab.research.google.com/github/KARENCMP82/Modulo2/blob/main/DSC1124ESP_241127_Clase_1_Repaso_Inicial_TEORIA_EJERCICIOS_2.ipynb\" target=\"_parent\"><img src=\"https://colab.research.google.com/assets/colab-badge.svg\" alt=\"Open In Colab\"/></a>"
      ]
    },
    {
      "cell_type": "markdown",
      "metadata": {
        "id": "F2NxqcUrJck-"
      },
      "source": [
        "![Nuclio logo](https://nuclio.school/wp-content/uploads/2018/12/nucleoDS-newBlack.png)"
      ]
    },
    {
      "cell_type": "markdown",
      "source": [
        "# CLASE 1: Repaso Inicial - Lenguaje de programación Python\n",
        "Fecha: 27/11/2024"
      ],
      "metadata": {
        "id": "-JWdn0irH6g8"
      }
    },
    {
      "cell_type": "markdown",
      "metadata": {
        "id": "GBxOAIMqJclC"
      },
      "source": [
        "# EJERCICIOS 2"
      ]
    },
    {
      "cell_type": "markdown",
      "metadata": {
        "id": "5KX1jvSjJclD"
      },
      "source": [
        "## Listas"
      ]
    },
    {
      "cell_type": "markdown",
      "metadata": {
        "id": "5b_pOigwJclE"
      },
      "source": [
        "1 - Construye una lista que contengo los siguientes elementos: manzanas, peras, plátanos, kiwis"
      ]
    },
    {
      "cell_type": "code",
      "source": [
        "lista =(\"manzanas\", \"peras\", \"plátanos\", \"kiwis\")\n",
        "print(lista)"
      ],
      "metadata": {
        "id": "Ob5lsK7oH76E",
        "colab": {
          "base_uri": "https://localhost:8080/"
        },
        "outputId": "a476793b-6515-4634-cf0d-8a26fb5674e8"
      },
      "execution_count": 1,
      "outputs": [
        {
          "output_type": "stream",
          "name": "stdout",
          "text": [
            "('manzanas', 'peras', 'plátanos', 'kiwis')\n"
          ]
        }
      ]
    },
    {
      "cell_type": "markdown",
      "metadata": {
        "id": "mPLf_Av3JclF"
      },
      "source": [
        "2 - ¿Cuál es el primer elemento de la lista? ¿Y el último? ¿Y el penúltimo?\n",
        "\n"
      ]
    },
    {
      "cell_type": "code",
      "source": [
        "lista =(\"manzanas\", \"peras\", \"plátanos\", \"kiwis\")\n",
        "# Primer elemento\n",
        "print(lista[0])  # manzanas\n",
        "\n",
        "# Último elemento\n",
        "print(lista[-1])  # kiwis"
      ],
      "metadata": {
        "id": "-qvA_hqwH8a5",
        "colab": {
          "base_uri": "https://localhost:8080/"
        },
        "outputId": "d0685573-8361-47ab-d589-10137e11a3cc"
      },
      "execution_count": 5,
      "outputs": [
        {
          "output_type": "stream",
          "name": "stdout",
          "text": [
            "('manzanas', 'peras', 'plátanos')\n"
          ]
        }
      ]
    },
    {
      "cell_type": "markdown",
      "metadata": {
        "id": "5mR_qiFmJclG"
      },
      "source": [
        "3 - Selecciona los 3 primeros elementos de la lista"
      ]
    },
    {
      "cell_type": "code",
      "source": [
        "lista =(\"manzanas\", \"peras\", \"plátanos\", \"kiwis\")\n",
        "\n",
        "print(lista[0:3])"
      ],
      "metadata": {
        "id": "aEIBKYI1H8_k",
        "colab": {
          "base_uri": "https://localhost:8080/"
        },
        "outputId": "cd98ad36-d7eb-4c56-e870-0aede28c638c"
      },
      "execution_count": 7,
      "outputs": [
        {
          "output_type": "stream",
          "name": "stdout",
          "text": [
            "('manzanas', 'peras', 'plátanos')\n"
          ]
        }
      ]
    },
    {
      "cell_type": "markdown",
      "metadata": {
        "id": "xCCSmS46JclG"
      },
      "source": [
        "4 - Cambia las manzanas por pomelos\n",
        "\n"
      ]
    },
    {
      "cell_type": "code",
      "source": [
        "lista = [\"manzanas\", \"peras\", \"plátanos\", \"kiwis\"]\n",
        "lista[0] = \"pomelos\"\n",
        "print(lista)"
      ],
      "metadata": {
        "id": "WS0rWE_0H9i0",
        "colab": {
          "base_uri": "https://localhost:8080/"
        },
        "outputId": "87f83502-ab9b-467f-c2bf-7209e9d808bb"
      },
      "execution_count": 11,
      "outputs": [
        {
          "output_type": "stream",
          "name": "stdout",
          "text": [
            "['pomelos', 'peras', 'plátanos', 'kiwis']\n"
          ]
        }
      ]
    },
    {
      "cell_type": "markdown",
      "metadata": {
        "id": "yzZcPC7hJclH"
      },
      "source": [
        "5 - ¿Cuántos elementos tiene mi lista?"
      ]
    },
    {
      "cell_type": "code",
      "source": [
        "lista =(\"manzanas\", \"peras\", \"plátanos\", \"kiwis\")\n",
        "print(len(lista))"
      ],
      "metadata": {
        "id": "Z6BYucpbH-LC",
        "colab": {
          "base_uri": "https://localhost:8080/"
        },
        "outputId": "d7dbbeb7-b56c-446c-b225-d929566b23fd"
      },
      "execution_count": 13,
      "outputs": [
        {
          "output_type": "stream",
          "name": "stdout",
          "text": [
            "4\n"
          ]
        }
      ]
    },
    {
      "cell_type": "markdown",
      "metadata": {
        "id": "8cAIvkxGJclH"
      },
      "source": [
        "6 - Añade a la lista una piña!\n",
        "\n"
      ]
    },
    {
      "cell_type": "code",
      "source": [
        "lista =[\"manzanas\", \"peras\", \"plátanos\", \"kiwis\"]\n",
        "lista.append(\"piña\")\n",
        "print(lista)"
      ],
      "metadata": {
        "id": "auJv0wNmH-4e",
        "colab": {
          "base_uri": "https://localhost:8080/"
        },
        "outputId": "932b92d8-4b4f-45f4-8902-e75ee9038b4d"
      },
      "execution_count": 17,
      "outputs": [
        {
          "output_type": "stream",
          "name": "stdout",
          "text": [
            "['manzanas', 'peras', 'plátanos', 'kiwis', 'piña']\n"
          ]
        }
      ]
    },
    {
      "cell_type": "markdown",
      "metadata": {
        "id": "sDy0NtJ8JclI"
      },
      "source": [
        "7 - Añade como 2º elemento de la lista unas zanahorias\n",
        "\n"
      ]
    },
    {
      "cell_type": "code",
      "source": [
        "lista =(\"manzanas\", \"peras\", \"plátanos\", \"kiwis\")\n",
        "lista.insert(1, \"zanahorias\")\n",
        "print(lista)"
      ],
      "metadata": {
        "id": "wAx4H84qH_jK"
      },
      "execution_count": null,
      "outputs": []
    },
    {
      "cell_type": "markdown",
      "metadata": {
        "id": "HjBTLw7YJclJ"
      },
      "source": [
        "8 - Borra los plátanos."
      ]
    },
    {
      "cell_type": "code",
      "source": [
        "lista = [\"manzanas\", \"peras\", \"plátanos\", \"kiwis\"]\n",
        "lista.remove(\"plátanos\")\n",
        "del lista[2]\n",
        "print(lista)"
      ],
      "metadata": {
        "id": "4GXxQbrzIAkw",
        "colab": {
          "base_uri": "https://localhost:8080/"
        },
        "outputId": "4d3fc318-5e5b-4cd6-eda8-7e1dfa7d1d28"
      },
      "execution_count": 19,
      "outputs": [
        {
          "output_type": "stream",
          "name": "stdout",
          "text": [
            "['manzanas', 'peras', 'kiwis']\n"
          ]
        }
      ]
    },
    {
      "cell_type": "markdown",
      "metadata": {
        "id": "arZj4giSJclK"
      },
      "source": [
        "9 - No tengo tiempo de comprar tantas cosas, borra el último elemento de la lista!"
      ]
    },
    {
      "cell_type": "code",
      "source": [
        "lista =(\"manzanas\", \"peras\", \"plátanos\", \"kiwis\")"
      ],
      "metadata": {
        "id": "z-cXeAG4IBIo"
      },
      "execution_count": null,
      "outputs": []
    },
    {
      "cell_type": "markdown",
      "metadata": {
        "id": "hh5SC_lYJclL"
      },
      "source": [
        "10 - Voy a cambiar mi ruta de la compra, revierte el orden de mi lista"
      ]
    },
    {
      "cell_type": "code",
      "source": [
        "lista =(\"manzanas\", \"peras\", \"plátanos\", \"kiwis\")"
      ],
      "metadata": {
        "id": "lLxxj0VDIByQ"
      },
      "execution_count": null,
      "outputs": []
    },
    {
      "cell_type": "markdown",
      "metadata": {
        "id": "lYFDbrkXJclL"
      },
      "source": [
        "11 - Mi amigo me pide si le puedo ir a comprar unas cuantas cosas que necesita. Añadiré a mi lista su lista de la compra:\n",
        "- desodorante\n",
        "- champú\n",
        "- pan\n",
        "- gomina\n",
        "- chicles"
      ]
    },
    {
      "cell_type": "code",
      "source": [],
      "metadata": {
        "id": "EloI5WhGICTp"
      },
      "execution_count": null,
      "outputs": []
    },
    {
      "cell_type": "markdown",
      "metadata": {
        "id": "30Jy9ZD6JclM"
      },
      "source": [
        "## Tuplas"
      ]
    },
    {
      "cell_type": "markdown",
      "metadata": {
        "id": "sN9clmTGJclM"
      },
      "source": [
        "12 - ¿Cuál es la diferencia entre una tupla y una lista?"
      ]
    },
    {
      "cell_type": "code",
      "source": [],
      "metadata": {
        "id": "qQmCcOXHIDVu"
      },
      "execution_count": null,
      "outputs": []
    },
    {
      "cell_type": "markdown",
      "metadata": {
        "id": "TokajSoFJclM"
      },
      "source": [
        "13 - Crea una tupla con el elemento a, b, c"
      ]
    },
    {
      "cell_type": "code",
      "source": [],
      "metadata": {
        "id": "8bfMDA9xID0w"
      },
      "execution_count": null,
      "outputs": []
    },
    {
      "cell_type": "markdown",
      "metadata": {
        "id": "wJ7eEtXCJclM"
      },
      "source": [
        "14 - Convierte tu lista de la compra a una tupla"
      ]
    },
    {
      "cell_type": "code",
      "source": [],
      "metadata": {
        "id": "QHwz3AsCIENA"
      },
      "execution_count": null,
      "outputs": []
    },
    {
      "cell_type": "markdown",
      "metadata": {
        "id": "hrU3slU5JclM"
      },
      "source": [
        "15 - ¿Cuántos elementos tiene mi tupla?"
      ]
    },
    {
      "cell_type": "code",
      "source": [],
      "metadata": {
        "id": "0o_JdDlAIE2l"
      },
      "execution_count": null,
      "outputs": []
    },
    {
      "cell_type": "markdown",
      "metadata": {
        "ExecuteTime": {
          "end_time": "2020-02-16T19:27:27.210778Z",
          "start_time": "2020-02-16T19:27:27.204153Z"
        },
        "id": "w6SWxNfjJclN"
      },
      "source": [
        "16 - ¿Si estoy comprando las zanahorias, cuantos elementos compraré antes de comprar la gomina?"
      ]
    },
    {
      "cell_type": "code",
      "source": [],
      "metadata": {
        "id": "Ix7Ji0SFIFfN"
      },
      "execution_count": null,
      "outputs": []
    },
    {
      "cell_type": "markdown",
      "metadata": {
        "id": "1ibB_xpFJclN"
      },
      "source": [
        "17 - Quiero añadir ahora jabón a mi tupla de la compra, puedo ?"
      ]
    },
    {
      "cell_type": "code",
      "source": [],
      "metadata": {
        "id": "njXzDVuaIF6T"
      },
      "execution_count": null,
      "outputs": []
    },
    {
      "cell_type": "markdown",
      "metadata": {
        "id": "J_YBEmqpJclN"
      },
      "source": [
        "18 - Una tupla es ordenada? Y una lista?"
      ]
    },
    {
      "cell_type": "code",
      "source": [],
      "metadata": {
        "id": "yElMPP9NIHCc"
      },
      "execution_count": null,
      "outputs": []
    },
    {
      "cell_type": "markdown",
      "metadata": {
        "id": "yI1E0T26JclN"
      },
      "source": [
        "## Sets"
      ]
    },
    {
      "cell_type": "markdown",
      "metadata": {
        "id": "RsBFZOXiJclN"
      },
      "source": [
        "19 - ¿Cuál es la diferencia entre un set y una lista?"
      ]
    },
    {
      "cell_type": "code",
      "source": [],
      "metadata": {
        "id": "4ik4zOgqIHvx"
      },
      "execution_count": null,
      "outputs": []
    },
    {
      "cell_type": "markdown",
      "metadata": {
        "id": "F3xMb9XnJclN"
      },
      "source": [
        "20 - ¿Cuál es la diferencia entre un set y una tupla?"
      ]
    },
    {
      "cell_type": "code",
      "source": [],
      "metadata": {
        "id": "SVKnc6gkIIMO"
      },
      "execution_count": null,
      "outputs": []
    },
    {
      "cell_type": "markdown",
      "metadata": {
        "id": "B4PH00MZJclN"
      },
      "source": [
        "21 - Define un set de colores: azul, blanco, negro, rosa, rojo, amarillo, lila"
      ]
    },
    {
      "cell_type": "code",
      "source": [],
      "metadata": {
        "id": "hPLFEH1UIJF7"
      },
      "execution_count": null,
      "outputs": []
    },
    {
      "cell_type": "markdown",
      "metadata": {
        "id": "_nAKQjjkJclO"
      },
      "source": [
        "22 - ¿Que posición ocupa el color azul en el set?"
      ]
    },
    {
      "cell_type": "code",
      "source": [],
      "metadata": {
        "id": "SArok2KvIJmP"
      },
      "execution_count": null,
      "outputs": []
    },
    {
      "cell_type": "markdown",
      "metadata": {
        "id": "EVKZN1vdJclO"
      },
      "source": [
        "23 - Añade el color gris al set"
      ]
    },
    {
      "cell_type": "code",
      "source": [],
      "metadata": {
        "id": "vYR15bJHIKHD"
      },
      "execution_count": null,
      "outputs": []
    },
    {
      "cell_type": "markdown",
      "metadata": {
        "id": "V1XtyJjpJclO"
      },
      "source": [
        "24 - Añade ahora varios colores: marrón, azul oscuro, naranja"
      ]
    },
    {
      "cell_type": "code",
      "source": [],
      "metadata": {
        "id": "qTeIPm_UIKtp"
      },
      "execution_count": null,
      "outputs": []
    },
    {
      "cell_type": "markdown",
      "metadata": {
        "id": "BnkbtJHKJclO"
      },
      "source": [
        "25 - ¿Cuántos elementos tiene mi set?"
      ]
    },
    {
      "cell_type": "code",
      "source": [],
      "metadata": {
        "id": "Dqd2MpVHILGW"
      },
      "execution_count": null,
      "outputs": []
    },
    {
      "cell_type": "markdown",
      "metadata": {
        "id": "-KoaX_plJclO"
      },
      "source": [
        "26 - Genera un nuevo set con los elementos 1,2,3,4,5"
      ]
    },
    {
      "cell_type": "code",
      "source": [],
      "metadata": {
        "id": "bmgvHzl6ILj1"
      },
      "execution_count": null,
      "outputs": []
    },
    {
      "cell_type": "markdown",
      "metadata": {
        "id": "KUs60L-bJclO"
      },
      "source": [
        "27 - Une un set con el otro"
      ]
    },
    {
      "cell_type": "code",
      "source": [],
      "metadata": {
        "id": "r_g1aVvvIMBF"
      },
      "execution_count": null,
      "outputs": []
    },
    {
      "cell_type": "markdown",
      "metadata": {
        "id": "xa7pv4G6JclP"
      },
      "source": [
        "28 - Borra todos los elementos del set"
      ]
    },
    {
      "cell_type": "code",
      "source": [],
      "metadata": {
        "id": "bDrwTaOsIMT7"
      },
      "execution_count": null,
      "outputs": []
    },
    {
      "cell_type": "markdown",
      "metadata": {
        "id": "O_4GBTiiJclP"
      },
      "source": [
        "## Diccionarios"
      ]
    },
    {
      "cell_type": "markdown",
      "metadata": {
        "id": "5nfnW8ueJclQ"
      },
      "source": [
        "29 - Dado el siguiente diccionario:\n",
        "\n",
        "inventory = {\n",
        "    'gold' : 500,\n",
        "    'pouch' : ['flint', 'twine', 'gemstone'],\n",
        "    'backpack' : ['xylophone','dagger', 'bedroll','bread loaf']\n",
        "}\n",
        "\n",
        "\n",
        "Haz lo siguiente:\n",
        "- Añade una nueva categoría dentro del diccionario llamada 'pocket'\n",
        "- Define el valor de 'pocket' como una lista que contiene los siguientes elementos: 'seashell', 'strange', 'berry' y 'lint'\n",
        "- Ordena los elementos de la lista dentro de la categoría 'backpack'\n",
        "- Elimina el elemento 'dagger' de dentro de la categoría 'backpack'\n",
        "- Añade 50 como un nuevo elemento dentro de la categoría 'gold'"
      ]
    },
    {
      "cell_type": "code",
      "source": [],
      "metadata": {
        "id": "gVPKbZicIPnt"
      },
      "execution_count": null,
      "outputs": []
    },
    {
      "cell_type": "markdown",
      "metadata": {
        "id": "V6yO0iMyJclQ"
      },
      "source": [
        "30 - Crea un diccionario llamado 'precios'.\n",
        "\n",
        "- Añade los siguientes elementos al diccionario:\n",
        "\"plátano\": 4,\n",
        "\"manzana\": 2,\n",
        "\"naranja\": 1.5,\n",
        "\"pera\": 3\n",
        "\n",
        "Crea un diccionario llamado stock con la siguiente información:\n",
        "\"plátano\": 6,\n",
        "\"manzana\": 0,\n",
        "\"naranja\": 32,\n",
        "\"pera\": 12\n",
        "\n",
        "- Calcula el dinero que ganarías si vendieses todo tu stock al precio marcado"
      ]
    },
    {
      "cell_type": "code",
      "source": [],
      "metadata": {
        "id": "ZMUFIAwvIQEN"
      },
      "execution_count": null,
      "outputs": []
    }
  ],
  "metadata": {
    "kernelspec": {
      "display_name": "Python 3",
      "language": "python",
      "name": "python3"
    },
    "language_info": {
      "codemirror_mode": {
        "name": "ipython",
        "version": 3
      },
      "file_extension": ".py",
      "mimetype": "text/x-python",
      "name": "python",
      "nbconvert_exporter": "python",
      "pygments_lexer": "ipython3",
      "version": "3.8.3"
    },
    "latex_envs": {
      "LaTeX_envs_menu_present": true,
      "autoclose": false,
      "autocomplete": true,
      "bibliofile": "biblio.bib",
      "cite_by": "apalike",
      "current_citInitial": 1,
      "eqLabelWithNumbers": true,
      "eqNumInitial": 1,
      "hotkeys": {
        "equation": "Ctrl-E",
        "itemize": "Ctrl-I"
      },
      "labels_anchors": false,
      "latex_user_defs": false,
      "report_style_numbering": false,
      "user_envs_cfg": false
    },
    "toc": {
      "base_numbering": 1,
      "nav_menu": {},
      "number_sections": true,
      "sideBar": true,
      "skip_h1_title": false,
      "title_cell": "Table of Contents",
      "title_sidebar": "Contents",
      "toc_cell": false,
      "toc_position": {
        "height": "calc(100% - 180px)",
        "left": "10px",
        "top": "150px",
        "width": "418.3831481933594px"
      },
      "toc_section_display": true,
      "toc_window_display": false
    },
    "varInspector": {
      "cols": {
        "lenName": 16,
        "lenType": 16,
        "lenVar": 40
      },
      "kernels_config": {
        "python": {
          "delete_cmd_postfix": "",
          "delete_cmd_prefix": "del ",
          "library": "var_list.py",
          "varRefreshCmd": "print(var_dic_list())"
        },
        "r": {
          "delete_cmd_postfix": ") ",
          "delete_cmd_prefix": "rm(",
          "library": "var_list.r",
          "varRefreshCmd": "cat(var_dic_list()) "
        }
      },
      "types_to_exclude": [
        "module",
        "function",
        "builtin_function_or_method",
        "instance",
        "_Feature"
      ],
      "window_display": false
    },
    "colab": {
      "provenance": [],
      "include_colab_link": true
    }
  },
  "nbformat": 4,
  "nbformat_minor": 0
}