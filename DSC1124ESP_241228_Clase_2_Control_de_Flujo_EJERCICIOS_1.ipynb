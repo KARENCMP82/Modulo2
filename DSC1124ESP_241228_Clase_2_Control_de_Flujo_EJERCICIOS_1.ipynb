{
  "cells": [
    {
      "cell_type": "markdown",
      "metadata": {
        "id": "view-in-github",
        "colab_type": "text"
      },
      "source": [
        "<a href=\"https://colab.research.google.com/github/KARENCMP82/Modulo2/blob/main/DSC1124ESP_241228_Clase_2_Control_de_Flujo_EJERCICIOS_1.ipynb\" target=\"_parent\"><img src=\"https://colab.research.google.com/assets/colab-badge.svg\" alt=\"Open In Colab\"/></a>"
      ]
    },
    {
      "cell_type": "markdown",
      "metadata": {
        "id": "EdSVWtnesDyl"
      },
      "source": [
        "![Nuclio logo](https://nuclio.school/wp-content/uploads/2018/12/nucleoDS-newBlack.png)"
      ]
    },
    {
      "cell_type": "markdown",
      "metadata": {
        "id": "0Rnz6JMLsDym"
      },
      "source": [
        "# EJERCICIOS"
      ]
    },
    {
      "cell_type": "markdown",
      "metadata": {
        "id": "3nZQUBI3sDym"
      },
      "source": [
        "1 - Crea una función que calcule la longitud de una lista o una cadena dada evitando el uso de la función Len()."
      ]
    },
    {
      "cell_type": "code",
      "source": [
        "def calc_long (objeto):\n",
        "  longitud =len(objeto)\n",
        "\n",
        "  return f\"La longitud del objeto es {longitud}\"\n",
        "  numero= log(\"Cristina\")\n",
        " # Usar la función\n",
        "resultado = calc_long(\"Cristina\")\n",
        "print(resultado)\n",
        "\n",
        "resultado_lista = calc_long([1, 2, 3, 4, 5])\n",
        "print(resultado_lista)\n"
      ],
      "metadata": {
        "id": "linS8_c20wux",
        "colab": {
          "base_uri": "https://localhost:8080/"
        },
        "outputId": "a481fced-c916-4575-98d5-157761a2b029"
      },
      "execution_count": 2,
      "outputs": [
        {
          "output_type": "stream",
          "name": "stdout",
          "text": [
            "La longitud del objeto es 8\n",
            "La longitud del objeto es 5\n"
          ]
        }
      ]
    },
    {
      "cell_type": "markdown",
      "metadata": {
        "id": "0ovbhqnrsDym"
      },
      "source": [
        "2 - Definir una función superposicion() que tome dos listas y devuelva True si tienen al menos 1 miembro en común o devuelva False de lo contrario. Escribir la función usando el bucle for anidado y otra función sin utilizar bucles."
      ]
    },
    {
      "cell_type": "code",
      "source": [
        "#--función sin utilizar bucles.\n",
        "def superposicion(list1, list2):\n",
        "    # Comprobamos si hay alguna intersección entre ambas listas\n",
        "    return bool(set(list1) & set(list2))  # Si hay intersección, devuelve True, de lo contrario False\n",
        "\n",
        "# Ejemplo de uso\n",
        "list1 = [\"melon\", \"peras\", \"naranja\", \"kiwis\"]\n",
        "list2 = [\"manzanas\", \"peras\", \"plátanos\", \"kiwis\"]\n",
        "\n",
        "print(superposicion(list1, list2))  # Esto imprimirá True, ya que \"peras\" y \"kiwis\" están en ambas listas\n",
        "\n",
        "\n",
        "\n"
      ],
      "metadata": {
        "id": "ur3cGeYZlCQ4",
        "colab": {
          "base_uri": "https://localhost:8080/"
        },
        "outputId": "5a5edf00-a384-459e-f331-b52f752e5517"
      },
      "execution_count": 5,
      "outputs": [
        {
          "output_type": "stream",
          "name": "stdout",
          "text": [
            "True\n"
          ]
        }
      ]
    },
    {
      "cell_type": "markdown",
      "metadata": {
        "id": "Pn5yasihsDyn"
      },
      "source": [
        "3 - Usando el bucle while, construye una función que acepte como parámetro una lista de valores y que en cada ejecución se borre el primer valor de la lista e imprima la lista, la idea es que hayan tantas ejecuciones como elementos de la lista hasta que esta se vacíe."
      ]
    },
    {
      "cell_type": "code",
      "source": [],
      "metadata": {
        "id": "z_vUH_mc-TB-",
        "colab": {
          "base_uri": "https://localhost:8080/"
        },
        "outputId": "eca892b4-d0a3-4370-fc1d-e46012e80994"
      },
      "execution_count": 4,
      "outputs": [
        {
          "output_type": "stream",
          "name": "stdout",
          "text": [
            "Índice 0: melon\n",
            "Índice 1: peras\n",
            "Índice 2: naranja\n",
            "Índice 3: kiwis\n"
          ]
        }
      ]
    },
    {
      "cell_type": "markdown",
      "metadata": {
        "id": "uiYDmpbPsDyn"
      },
      "source": [
        "4 - Contruye una función que imprima un triángulo equilátero (base y altura igual) conformado por \" * \" con dimensiones que se proporcienen desde el parámetro de la función. Recuerda que un string se puede multiplicar por un número. Resultado deseado:"
      ]
    },
    {
      "cell_type": "markdown",
      "source": [
        "![triangulo equi.PNG](data:image/png;base64,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)"
      ],
      "metadata": {
        "id": "3c_vonz4s1Nb"
      }
    },
    {
      "cell_type": "markdown",
      "metadata": {
        "id": "gDSx-Bc3sDyn"
      },
      "source": [
        "5- Escribe una función llamada \"calcular\" que tome tres parámetros: \"num1\", \"num2\" y \"operacion\". La función deberá realizar la operación matemática especificada entre \"num1\" y \"num2\" según el valor de \"operacion\" y devolver tanto el resultado de la operación como un mensaje que describa la operación realizada.\n",
        "\n",
        "La función debe ser capaz de realizar las operaciones de suma, resta, multiplicación y división. Si se intenta realizar una división por cero, la función debe devolver un mensaje indicando que no se puede dividir por cero. Además, si se proporciona una operación no válida, la función también debe devolver un mensaje indicando que la operación no es válida.\n",
        "\n",
        "Para realizar la operación, se debe utilizar una estructura de coincidencia (match) para determinar la operación requerida y realizarla de acuerdo al valor de \"operacion\". La función debe devolver tanto el resultado de la operación como un mensaje que indique la operación realizada.\n",
        "\n",
        "Por último, la función debe ser invocada solicitando al usuario que ingrese dos números enteros (\"num1\" y \"num2\") y la operación matemática que desea realizar. Luego, la función \"calcular\" deberá ser llamada con estos valores y los resultados deberán ser impresos en pantalla."
      ]
    },
    {
      "cell_type": "code",
      "source": [],
      "metadata": {
        "id": "WHp1ERi97SQ2"
      },
      "execution_count": null,
      "outputs": []
    },
    {
      "cell_type": "markdown",
      "source": [
        "6- Solicita al usuario que ingrese un número y utiliza la función range() para imprimir todos los números desde 0 hasta 100 que sean múltiplos de ese número."
      ],
      "metadata": {
        "id": "CVFY8KsW8dEb"
      }
    },
    {
      "cell_type": "code",
      "source": [],
      "metadata": {
        "id": "oB8gV_J_-03-"
      },
      "execution_count": null,
      "outputs": []
    },
    {
      "cell_type": "markdown",
      "metadata": {
        "id": "Dmdha1fXsDyn"
      },
      "source": [
        "7 - Construye una función que permita invertir una palabra que se le pase como parámetro. Por ejemplo: input: hola output: aloh"
      ]
    },
    {
      "cell_type": "code",
      "source": [],
      "metadata": {
        "id": "glN6eB4OA555"
      },
      "execution_count": null,
      "outputs": []
    },
    {
      "cell_type": "markdown",
      "source": [
        "8 - Crea una lista de palabras y utiliza la función enumerate() para imprimir el índice y la palabra correspondiente, comenzando desde 10 como índice inicial."
      ],
      "metadata": {
        "id": "GUe_Dtam_cac"
      }
    },
    {
      "cell_type": "code",
      "source": [],
      "metadata": {
        "id": "TuALfsGU_eya"
      },
      "execution_count": null,
      "outputs": []
    },
    {
      "cell_type": "markdown",
      "source": [
        "9 -Solicita al usuario que ingrese un número y utiliza la función range() para imprimir todos los números pares desde 0 hasta ese número. Después imprima en orden descendente."
      ],
      "metadata": {
        "id": "GtnCSFA6_mx2"
      }
    },
    {
      "cell_type": "code",
      "source": [],
      "metadata": {
        "id": "agFqM4Zs_l_G"
      },
      "execution_count": null,
      "outputs": []
    }
  ],
  "metadata": {
    "kernelspec": {
      "display_name": "Python 3",
      "language": "python",
      "name": "python3"
    },
    "language_info": {
      "codemirror_mode": {
        "name": "ipython",
        "version": 3
      },
      "file_extension": ".py",
      "mimetype": "text/x-python",
      "name": "python",
      "nbconvert_exporter": "python",
      "pygments_lexer": "ipython3",
      "version": "3.8.5"
    },
    "latex_envs": {
      "LaTeX_envs_menu_present": true,
      "autoclose": false,
      "autocomplete": true,
      "bibliofile": "biblio.bib",
      "cite_by": "apalike",
      "current_citInitial": 1,
      "eqLabelWithNumbers": true,
      "eqNumInitial": 1,
      "hotkeys": {
        "equation": "Ctrl-E",
        "itemize": "Ctrl-I"
      },
      "labels_anchors": false,
      "latex_user_defs": false,
      "report_style_numbering": false,
      "user_envs_cfg": false
    },
    "toc": {
      "base_numbering": 1,
      "nav_menu": {},
      "number_sections": true,
      "sideBar": true,
      "skip_h1_title": false,
      "title_cell": "Table of Contents",
      "title_sidebar": "Contents",
      "toc_cell": false,
      "toc_position": {
        "height": "calc(100% - 180px)",
        "left": "10px",
        "top": "150px",
        "width": "418.3831481933594px"
      },
      "toc_section_display": true,
      "toc_window_display": false
    },
    "varInspector": {
      "cols": {
        "lenName": 16,
        "lenType": 16,
        "lenVar": 40
      },
      "kernels_config": {
        "python": {
          "delete_cmd_postfix": "",
          "delete_cmd_prefix": "del ",
          "library": "var_list.py",
          "varRefreshCmd": "print(var_dic_list())"
        },
        "r": {
          "delete_cmd_postfix": ") ",
          "delete_cmd_prefix": "rm(",
          "library": "var_list.r",
          "varRefreshCmd": "cat(var_dic_list()) "
        }
      },
      "types_to_exclude": [
        "module",
        "function",
        "builtin_function_or_method",
        "instance",
        "_Feature"
      ],
      "window_display": false
    },
    "colab": {
      "provenance": [],
      "include_colab_link": true
    }
  },
  "nbformat": 4,
  "nbformat_minor": 0
}