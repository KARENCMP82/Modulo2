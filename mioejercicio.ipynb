{
  "nbformat": 4,
  "nbformat_minor": 0,
  "metadata": {
    "colab": {
      "provenance": [],
      "authorship_tag": "ABX9TyMzYh7yvUpMSNrrPNSEm4i6",
      "include_colab_link": true
    },
    "kernelspec": {
      "name": "python3",
      "display_name": "Python 3"
    },
    "language_info": {
      "name": "python"
    }
  },
  "cells": [
    {
      "cell_type": "markdown",
      "metadata": {
        "id": "view-in-github",
        "colab_type": "text"
      },
      "source": [
        "<a href=\"https://colab.research.google.com/github/KARENCMP82/Modulo2/blob/main/mioejercicio.ipynb\" target=\"_parent\"><img src=\"https://colab.research.google.com/assets/colab-badge.svg\" alt=\"Open In Colab\"/></a>"
      ]
    },
    {
      "cell_type": "markdown",
      "source": [
        "Dada la siguiente lista de frutas, imprime cada fruta en una línea separada"
      ],
      "metadata": {
        "id": "vxpR4_7uwGPz"
      }
    },
    {
      "cell_type": "code",
      "source": [
        "listf =[\"melon\", \"sandia\",\"ciruela\", \"pera\",\"cereza\", \"fresa\"]\n",
        "for frutas in listf:\n",
        "  print(frutas)"
      ],
      "metadata": {
        "colab": {
          "base_uri": "https://localhost:8080/"
        },
        "id": "f5eLPngRwHtA",
        "outputId": "5c640e57-fc1f-489f-e023-28fefed0247b"
      },
      "execution_count": 1,
      "outputs": [
        {
          "output_type": "stream",
          "name": "stdout",
          "text": [
            "melon\n",
            "sandia\n",
            "ciruela\n",
            "pera\n",
            "cereza\n",
            "fresa\n"
          ]
        }
      ]
    },
    {
      "cell_type": "markdown",
      "source": [
        "Dada una lista de números, calcula la suma de todos sus elementos."
      ],
      "metadata": {
        "id": "_cZcNJp2wIJP"
      }
    },
    {
      "cell_type": "code",
      "source": [
        "listnum =[1,2,45,6,7]\n",
        "resultado=0\n",
        "for suma in listnum:\n",
        "  resultado+=suma\n",
        "  print(resultado)\n"
      ],
      "metadata": {
        "colab": {
          "base_uri": "https://localhost:8080/"
        },
        "id": "FuGC6Qf5wLnX",
        "outputId": "69150cd4-0159-4a14-cc10-2390df931d27"
      },
      "execution_count": 4,
      "outputs": [
        {
          "output_type": "stream",
          "name": "stdout",
          "text": [
            "1\n",
            "3\n",
            "48\n",
            "54\n",
            "61\n"
          ]
        }
      ]
    },
    {
      "cell_type": "markdown",
      "source": [
        "Dada una lista de palabras, cuenta cuántas veces aparece la palabra \"manzana\"."
      ],
      "metadata": {
        "id": "fmg8DH5UwOlH"
      }
    },
    {
      "cell_type": "code",
      "source": [
        "listf =[\"melon\", \"sandia\",\"ciruela\",\"manzana\", \"pera\",\"cereza\", \"fresa\",\"manzana\"]\n",
        "contador=0\n",
        "for frutas in listf:\n",
        "   if frutas == \"manzana\":  # Compara si el elemento es \"manzana\"\n",
        "        contador += 1  # Suma 1 cada vez que encuentra \"manzana\"\n",
        "\n",
        "print(f\"Cuántas veces aparece manzana: {contador}\")\n",
        ""
      ],
      "metadata": {
        "colab": {
          "base_uri": "https://localhost:8080/"
        },
        "id": "dJzJagn8wO_y",
        "outputId": "06da4506-ba4c-46fe-95a1-cdd6137db423"
      },
      "execution_count": 7,
      "outputs": [
        {
          "output_type": "stream",
          "name": "stdout",
          "text": [
            "Cuántas veces aparece manzana: 2\n"
          ]
        }
      ]
    },
    {
      "cell_type": "markdown",
      "source": [
        "Dado un diccionario con el nombre de estudiantes y sus calificaciones, imprime el nombre y la calificación de cada estudiante."
      ],
      "metadata": {
        "id": "GlZ6wQiXwRAP"
      }
    },
    {
      "cell_type": "code",
      "source": [],
      "metadata": {
        "id": "qO2oogEFwRpB"
      },
      "execution_count": null,
      "outputs": []
    }
  ]
}