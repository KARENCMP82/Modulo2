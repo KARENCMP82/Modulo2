{
  "cells": [
    {
      "cell_type": "markdown",
      "metadata": {
        "id": "view-in-github",
        "colab_type": "text"
      },
      "source": [
        "<a href=\"https://colab.research.google.com/github/KARENCMP82/Modulo2/blob/main/DSC1124ESP_241228_Clase_2_Numpy_EJERCICIOS_2.ipynb\" target=\"_parent\"><img src=\"https://colab.research.google.com/assets/colab-badge.svg\" alt=\"Open In Colab\"/></a>"
      ]
    },
    {
      "cell_type": "markdown",
      "metadata": {
        "id": "EdSVWtnesDyl"
      },
      "source": [
        "![Nuclio logo](https://nuclio.school/wp-content/uploads/2018/12/nucleoDS-newBlack.png)"
      ]
    },
    {
      "cell_type": "code",
      "source": [
        "from google.colab import drive\n",
        "drive.mount('/content/drive')"
      ],
      "metadata": {
        "id": "Q7uBlwRqlt4r"
      },
      "execution_count": null,
      "outputs": []
    },
    {
      "cell_type": "markdown",
      "metadata": {
        "id": "0Rnz6JMLsDym"
      },
      "source": [
        "# EJERCICIOS"
      ]
    },
    {
      "cell_type": "markdown",
      "metadata": {
        "id": "3nZQUBI3sDym"
      },
      "source": [
        "1- Crea un array unidimensional que contenga los números del 1 al 10."
      ]
    },
    {
      "cell_type": "code",
      "source": [],
      "metadata": {
        "id": "ur3cGeYZlCQ4"
      },
      "execution_count": null,
      "outputs": []
    },
    {
      "cell_type": "markdown",
      "source": [
        "2- Selecciona e imprime los elementos del array que sean mayores que 5."
      ],
      "metadata": {
        "id": "HqtgmaMN1r46"
      }
    },
    {
      "cell_type": "code",
      "source": [],
      "metadata": {
        "id": "jXXEImNL1vTQ"
      },
      "execution_count": null,
      "outputs": []
    },
    {
      "cell_type": "markdown",
      "source": [
        "3- Calcula e imprime la media de los elementos del array."
      ],
      "metadata": {
        "id": "4JnlMPBn1v1H"
      }
    },
    {
      "cell_type": "code",
      "source": [],
      "metadata": {
        "id": "x8ZZryzx2FA2"
      },
      "execution_count": null,
      "outputs": []
    },
    {
      "cell_type": "markdown",
      "source": [
        "4- Ordena los elementos del array en orden descendente"
      ],
      "metadata": {
        "id": "yzUvpmef2Uxt"
      }
    },
    {
      "cell_type": "code",
      "source": [],
      "metadata": {
        "id": "XvWwvqLy2gC3"
      },
      "execution_count": null,
      "outputs": []
    },
    {
      "cell_type": "markdown",
      "source": [
        "5- Multiplica todos los elementos del array por un escalar."
      ],
      "metadata": {
        "id": "7XJEQGsn2wZ2"
      }
    },
    {
      "cell_type": "code",
      "source": [],
      "metadata": {
        "id": "S2izFPi125GQ"
      },
      "execution_count": null,
      "outputs": []
    },
    {
      "cell_type": "markdown",
      "source": [
        "6- Calcula e imprime la media, mediana y desviación estándar de los elementos del array."
      ],
      "metadata": {
        "id": "Thux0pX_250g"
      }
    },
    {
      "cell_type": "code",
      "source": [],
      "metadata": {
        "id": "82PL-tCa26mk"
      },
      "execution_count": null,
      "outputs": []
    },
    {
      "cell_type": "markdown",
      "metadata": {
        "id": "0ovbhqnrsDym"
      },
      "source": [
        "7- Reformatea el array del ejercicio anterior a una forma de 2 filas y 5 columnas."
      ]
    },
    {
      "cell_type": "code",
      "source": [],
      "metadata": {
        "id": "DjwgEH4e3u3P"
      },
      "execution_count": null,
      "outputs": []
    },
    {
      "cell_type": "markdown",
      "source": [
        "8- Calcula la suma de los elementos a lo largo de los ejes del array"
      ],
      "metadata": {
        "id": "yABAE1wf2DhE"
      }
    },
    {
      "cell_type": "code",
      "source": [],
      "metadata": {
        "id": "tpTdJaMY4EtD"
      },
      "execution_count": null,
      "outputs": []
    },
    {
      "cell_type": "markdown",
      "source": [
        "9- Calcula la diferencia entre dos arrays\n",
        "[1, 2, 3, 4, 5] e [5, 4, 3, 2, 1]"
      ],
      "metadata": {
        "id": "HvhtDCof2WdR"
      }
    },
    {
      "cell_type": "code",
      "source": [],
      "metadata": {
        "id": "p7R4OeQr4F46"
      },
      "execution_count": null,
      "outputs": []
    },
    {
      "cell_type": "code",
      "source": [],
      "metadata": {
        "id": "9qsgLbhX5gqw"
      },
      "execution_count": null,
      "outputs": []
    }
  ],
  "metadata": {
    "kernelspec": {
      "display_name": "Python 3",
      "language": "python",
      "name": "python3"
    },
    "language_info": {
      "codemirror_mode": {
        "name": "ipython",
        "version": 3
      },
      "file_extension": ".py",
      "mimetype": "text/x-python",
      "name": "python",
      "nbconvert_exporter": "python",
      "pygments_lexer": "ipython3",
      "version": "3.8.5"
    },
    "latex_envs": {
      "LaTeX_envs_menu_present": true,
      "autoclose": false,
      "autocomplete": true,
      "bibliofile": "biblio.bib",
      "cite_by": "apalike",
      "current_citInitial": 1,
      "eqLabelWithNumbers": true,
      "eqNumInitial": 1,
      "hotkeys": {
        "equation": "Ctrl-E",
        "itemize": "Ctrl-I"
      },
      "labels_anchors": false,
      "latex_user_defs": false,
      "report_style_numbering": false,
      "user_envs_cfg": false
    },
    "toc": {
      "base_numbering": 1,
      "nav_menu": {},
      "number_sections": true,
      "sideBar": true,
      "skip_h1_title": false,
      "title_cell": "Table of Contents",
      "title_sidebar": "Contents",
      "toc_cell": false,
      "toc_position": {
        "height": "calc(100% - 180px)",
        "left": "10px",
        "top": "150px",
        "width": "418.3831481933594px"
      },
      "toc_section_display": true,
      "toc_window_display": false
    },
    "varInspector": {
      "cols": {
        "lenName": 16,
        "lenType": 16,
        "lenVar": 40
      },
      "kernels_config": {
        "python": {
          "delete_cmd_postfix": "",
          "delete_cmd_prefix": "del ",
          "library": "var_list.py",
          "varRefreshCmd": "print(var_dic_list())"
        },
        "r": {
          "delete_cmd_postfix": ") ",
          "delete_cmd_prefix": "rm(",
          "library": "var_list.r",
          "varRefreshCmd": "cat(var_dic_list()) "
        }
      },
      "types_to_exclude": [
        "module",
        "function",
        "builtin_function_or_method",
        "instance",
        "_Feature"
      ],
      "window_display": false
    },
    "colab": {
      "provenance": [],
      "include_colab_link": true
    }
  },
  "nbformat": 4,
  "nbformat_minor": 0
}